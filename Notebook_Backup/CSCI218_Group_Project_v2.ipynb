{
  "nbformat": 4,
  "nbformat_minor": 0,
  "metadata": {
    "colab": {
      "provenance": []
    },
    "kernelspec": {
      "name": "python3",
      "display_name": "Python 3"
    },
    "language_info": {
      "name": "python"
    }
  },
  "cells": [
    {
      "cell_type": "code",
      "source": [
        "\n",
        "\n",
        "!pip install pandas matplotlib wordcloud scikit-learn nltk tqdm beautifulsoup4\n"
      ],
      "metadata": {
        "colab": {
          "base_uri": "https://localhost:8080/"
        },
        "id": "ZUXPyIBCSfUk",
        "outputId": "5052c243-6abd-43c5-908d-e1cca2e7987d"
      },
      "execution_count": null,
      "outputs": [
        {
          "output_type": "stream",
          "name": "stdout",
          "text": [
            "Requirement already satisfied: pandas in /usr/local/lib/python3.11/dist-packages (2.2.2)\n",
            "Requirement already satisfied: matplotlib in /usr/local/lib/python3.11/dist-packages (3.10.0)\n",
            "Requirement already satisfied: wordcloud in /usr/local/lib/python3.11/dist-packages (1.9.4)\n",
            "Requirement already satisfied: scikit-learn in /usr/local/lib/python3.11/dist-packages (1.6.1)\n",
            "Requirement already satisfied: nltk in /usr/local/lib/python3.11/dist-packages (3.9.1)\n",
            "Requirement already satisfied: tqdm in /usr/local/lib/python3.11/dist-packages (4.67.1)\n",
            "Requirement already satisfied: beautifulsoup4 in /usr/local/lib/python3.11/dist-packages (4.13.3)\n",
            "Requirement already satisfied: numpy>=1.23.2 in /usr/local/lib/python3.11/dist-packages (from pandas) (1.26.4)\n",
            "Requirement already satisfied: python-dateutil>=2.8.2 in /usr/local/lib/python3.11/dist-packages (from pandas) (2.8.2)\n",
            "Requirement already satisfied: pytz>=2020.1 in /usr/local/lib/python3.11/dist-packages (from pandas) (2025.1)\n",
            "Requirement already satisfied: tzdata>=2022.7 in /usr/local/lib/python3.11/dist-packages (from pandas) (2025.1)\n",
            "Requirement already satisfied: contourpy>=1.0.1 in /usr/local/lib/python3.11/dist-packages (from matplotlib) (1.3.1)\n",
            "Requirement already satisfied: cycler>=0.10 in /usr/local/lib/python3.11/dist-packages (from matplotlib) (0.12.1)\n",
            "Requirement already satisfied: fonttools>=4.22.0 in /usr/local/lib/python3.11/dist-packages (from matplotlib) (4.56.0)\n",
            "Requirement already satisfied: kiwisolver>=1.3.1 in /usr/local/lib/python3.11/dist-packages (from matplotlib) (1.4.8)\n",
            "Requirement already satisfied: packaging>=20.0 in /usr/local/lib/python3.11/dist-packages (from matplotlib) (24.2)\n",
            "Requirement already satisfied: pillow>=8 in /usr/local/lib/python3.11/dist-packages (from matplotlib) (11.1.0)\n",
            "Requirement already satisfied: pyparsing>=2.3.1 in /usr/local/lib/python3.11/dist-packages (from matplotlib) (3.2.1)\n",
            "Requirement already satisfied: scipy>=1.6.0 in /usr/local/lib/python3.11/dist-packages (from scikit-learn) (1.13.1)\n",
            "Requirement already satisfied: joblib>=1.2.0 in /usr/local/lib/python3.11/dist-packages (from scikit-learn) (1.4.2)\n",
            "Requirement already satisfied: threadpoolctl>=3.1.0 in /usr/local/lib/python3.11/dist-packages (from scikit-learn) (3.5.0)\n",
            "Requirement already satisfied: click in /usr/local/lib/python3.11/dist-packages (from nltk) (8.1.8)\n",
            "Requirement already satisfied: regex>=2021.8.3 in /usr/local/lib/python3.11/dist-packages (from nltk) (2024.11.6)\n",
            "Requirement already satisfied: soupsieve>1.2 in /usr/local/lib/python3.11/dist-packages (from beautifulsoup4) (2.6)\n",
            "Requirement already satisfied: typing-extensions>=4.0.0 in /usr/local/lib/python3.11/dist-packages (from beautifulsoup4) (4.12.2)\n",
            "Requirement already satisfied: six>=1.5 in /usr/local/lib/python3.11/dist-packages (from python-dateutil>=2.8.2->pandas) (1.17.0)\n"
          ]
        }
      ]
    },
    {
      "cell_type": "code",
      "source": [
        "import os\n",
        "import email\n",
        "import tarfile\n",
        "import numpy as np\n",
        "import pandas as pd\n",
        "import matplotlib.pyplot as plt\n",
        "import google.generativeai as genai\n",
        "from sklearn.ensemble import IsolationForest\n",
        "from wordcloud import WordCloud, STOPWORDS\n",
        "import nltk\n",
        "from tqdm import tqdm\n",
        "nltk.download('punkt')\n",
        "nltk.download('averaged_perceptron_tagger')"
      ],
      "metadata": {
        "colab": {
          "base_uri": "https://localhost:8080/"
        },
        "id": "fYWh3-BCSm6V",
        "outputId": "271bb048-ef67-4ce5-f642-2c88a3d4a648"
      },
      "execution_count": null,
      "outputs": [
        {
          "output_type": "stream",
          "name": "stderr",
          "text": [
            "[nltk_data] Downloading package punkt to /root/nltk_data...\n",
            "[nltk_data]   Package punkt is already up-to-date!\n",
            "[nltk_data] Downloading package averaged_perceptron_tagger to\n",
            "[nltk_data]     /root/nltk_data...\n",
            "[nltk_data]   Package averaged_perceptron_tagger is already up-to-\n",
            "[nltk_data]       date!\n"
          ]
        },
        {
          "output_type": "execute_result",
          "data": {
            "text/plain": [
              "True"
            ]
          },
          "metadata": {},
          "execution_count": 2
        }
      ]
    },
    {
      "cell_type": "code",
      "source": [
        "from google.colab import drive\n",
        "drive.mount('/content/drive')"
      ],
      "metadata": {
        "colab": {
          "base_uri": "https://localhost:8080/"
        },
        "id": "PdEkYqfTM0VL",
        "outputId": "051af608-be59-460e-b0aa-4bb496a5b49c"
      },
      "execution_count": null,
      "outputs": [
        {
          "output_type": "stream",
          "name": "stdout",
          "text": [
            "Drive already mounted at /content/drive; to attempt to forcibly remount, call drive.mount(\"/content/drive\", force_remount=True).\n"
          ]
        }
      ]
    },
    {
      "cell_type": "code",
      "source": [
        "# Define source and destination paths\n",
        "source_path = \"/content/drive/My Drive/EnronDataset/maildir/maildir_backup.zip\"\n",
        "destination_path = \"/content/maildir_backup.zip\"\n",
        "\n",
        "# Copy file from Google Drive\n",
        "!cp \"{source_path}\" \"{destination_path}\"\n",
        "\n",
        "# Check if the file exists after copying\n",
        "if os.path.exists(destination_path):\n",
        "    print(\" File copied successful ly! Ready for extraction.\")\n",
        "else:\n",
        "    print(\" File copy failed. Please check the file path.\")\n"
      ],
      "metadata": {
        "colab": {
          "base_uri": "https://localhost:8080/"
        },
        "id": "-C04E6NkZtlW",
        "outputId": "b6bea04c-9bf2-480e-ebcc-37f446b45760"
      },
      "execution_count": null,
      "outputs": [
        {
          "output_type": "stream",
          "name": "stdout",
          "text": [
            " File copied successful ly! Ready for extraction.\n"
          ]
        }
      ]
    },
    {
      "cell_type": "code",
      "source": [
        "!ls -lh /content/maildir_backup.zip\n"
      ],
      "metadata": {
        "colab": {
          "base_uri": "https://localhost:8080/"
        },
        "id": "gkYXIQ3LZ9he",
        "outputId": "7b492ddd-f0a2-4351-dbef-4b3d141ae17f"
      },
      "execution_count": null,
      "outputs": [
        {
          "output_type": "stream",
          "name": "stdout",
          "text": [
            "-rw------- 1 root root 684M Feb 22 07:21 /content/maildir_backup.zip\n"
          ]
        }
      ]
    },
    {
      "cell_type": "code",
      "source": [
        "import zipfile\n",
        "\n",
        "# Define paths\n",
        "zip_path = \"/content/maildir_backup.zip\"\n",
        "extract_path = \"/content/maildir\"\n",
        "\n",
        "# Extract ZIP file\n",
        "try:\n",
        "    with zipfile.ZipFile(zip_path, 'r') as zip_ref:\n",
        "        zip_ref.extractall(extract_path)\n",
        "    print(\"✅ Dataset extracted successfully!\")\n",
        "\n",
        "    # Verify extraction by listing top-level directories\n",
        "    extracted_folders = os.listdir(extract_path)\n",
        "    if len(extracted_folders) > 0:\n",
        "        print(f\"📂 Extracted {len(extracted_folders)} folders inside maildir.\")\n",
        "        print(\"Sample folders:\", extracted_folders[:10])  # Show first 10 folders\n",
        "    else:\n",
        "        print(\"⚠️ Extraction completed, but no folders were found!\")\n",
        "\n",
        "except zipfile.BadZipFile:\n",
        "    print(\"❌ Error: Corrupt ZIP file. Please re-upload.\")\n",
        "except FileNotFoundError:\n",
        "    print(\"❌ Error: ZIP file not found. Ensure it's correctly copied from Google Drive.\")\n"
      ],
      "metadata": {
        "id": "gL_rnAt8bBQ2",
        "colab": {
          "base_uri": "https://localhost:8080/"
        },
        "outputId": "51361bf3-b7c1-4442-b332-c9ffa8d9b6a9"
      },
      "execution_count": null,
      "outputs": [
        {
          "output_type": "stream",
          "name": "stdout",
          "text": [
            "✅ Dataset extracted successfully!\n",
            "📂 Extracted 1 folders inside maildir.\n",
            "Sample folders: ['maildir']\n"
          ]
        }
      ]
    },
    {
      "cell_type": "code",
      "source": [
        "!ls -l /content/maildir | head -20\n"
      ],
      "metadata": {
        "id": "6qHk2YV5bVEN",
        "colab": {
          "base_uri": "https://localhost:8080/"
        },
        "outputId": "f4d3105b-c2bb-425a-dd90-10b54f493a9b"
      },
      "execution_count": null,
      "outputs": [
        {
          "output_type": "stream",
          "name": "stdout",
          "text": [
            "total 4\n",
            "drwxr-xr-x 152 root root 4096 Feb 22 06:20 maildir\n"
          ]
        }
      ]
    },
    {
      "cell_type": "code",
      "source": [
        "!find /content/maildir -type f | wc -l\n"
      ],
      "metadata": {
        "id": "CA-ULBzlbdD_",
        "colab": {
          "base_uri": "https://localhost:8080/"
        },
        "outputId": "c29b25b7-5b54-4a21-a524-f022bfde6ce6"
      },
      "execution_count": null,
      "outputs": [
        {
          "output_type": "stream",
          "name": "stdout",
          "text": [
            "517401\n"
          ]
        }
      ]
    },
    {
      "cell_type": "code",
      "source": [
        "import email\n",
        "import pandas as pd\n",
        "from tqdm import tqdm\n",
        "\n",
        "# Function to load emails into a structured DataFrame\n",
        "def load_enron_emails(dataset_path, max_emails=10000):\n",
        "    emails = []\n",
        "    for root, dirs, files in os.walk(dataset_path):\n",
        "        for file in files:\n",
        "            if file.endswith(\".\"):  # Ensure we're reading only email files\n",
        "                try:\n",
        "                    with open(os.path.join(root, file), \"r\", encoding=\"latin-1\") as f:\n",
        "                        content = f.read()\n",
        "                        e = email.message_from_string(content)\n",
        "                        emails.append({\n",
        "                            \"Message-ID\": e.get(\"Message-ID\"),\n",
        "                            \"Date\": e.get(\"Date\"),\n",
        "                            \"From\": e.get(\"From\"),\n",
        "                            \"To\": e.get(\"To\"),\n",
        "                            \"Subject\": e.get(\"Subject\"),\n",
        "                            \"Body\": e.get_payload()\n",
        "                        })\n",
        "                except Exception:\n",
        "                    pass\n",
        "            if len(emails) >= max_emails:  # Limit dataset for performance\n",
        "                break\n",
        "    return pd.DataFrame(emails)\n",
        "\n",
        "# Load dataset (limiting to 10,000 emails for performance)\n",
        "df = load_enron_emails(\"/content/maildir\", max_emails=10000)\n",
        "\n",
        "# Fix Date Parsing Issue\n",
        "df[\"Date\"] = pd.to_datetime(df[\"Date\"], errors=\"coerce\", utc=True)\n",
        "\n",
        "# Drop rows with missing data\n",
        "df = df.dropna()\n",
        "\n",
        "# Display the cleaned dataset (first 5 rows)\n",
        "df.head(100)\n"
      ],
      "metadata": {
        "id": "GWddWd-1brpy",
        "colab": {
          "base_uri": "https://localhost:8080/",
          "height": 773
        },
        "outputId": "ddd84fe6-4862-4061-ef1a-ad8e41b918c0"
      },
      "execution_count": null,
      "outputs": [
        {
          "output_type": "stream",
          "name": "stderr",
          "text": [
            "<ipython-input-9-1188443bce14>:33: UserWarning: Could not infer format, so each element will be parsed individually, falling back to `dateutil`. To ensure parsing is consistent and as-expected, please specify a format.\n",
            "  df[\"Date\"] = pd.to_datetime(df[\"Date\"], errors=\"coerce\", utc=True)\n"
          ]
        },
        {
          "output_type": "execute_result",
          "data": {
            "text/plain": [
              "                                        Message-ID                      Date  \\\n",
              "0     <6433257.1075842455323.JavaMail.evans@thyme> 2000-02-07 16:43:00+00:00   \n",
              "1     <1463300.1075842546778.JavaMail.evans@thyme> 2001-04-03 16:47:00+00:00   \n",
              "2    <19805440.1075842545180.JavaMail.evans@thyme> 2001-02-16 11:20:00+00:00   \n",
              "3    <14315818.1075842462814.JavaMail.evans@thyme> 2000-10-27 23:15:00+00:00   \n",
              "4    <16647528.1075842543495.JavaMail.evans@thyme> 2000-12-19 09:38:00+00:00   \n",
              "..                                             ...                       ...   \n",
              "98   <32692480.1075842464770.JavaMail.evans@thyme> 2000-11-02 18:53:00+00:00   \n",
              "99   <17867643.1075842477555.JavaMail.evans@thyme> 2000-12-11 16:26:00+00:00   \n",
              "100  <12778380.1075842460009.JavaMail.evans@thyme> 2000-08-07 10:46:00+00:00   \n",
              "101  <29580209.1075842545506.JavaMail.evans@thyme> 2001-03-06 13:21:00+00:00   \n",
              "102  <20911989.1075842470644.JavaMail.evans@thyme> 2000-11-21 12:57:00+00:00   \n",
              "\n",
              "                              From  \\\n",
              "0            drew.fossum@enron.com   \n",
              "1            drew.fossum@enron.com   \n",
              "2            drew.fossum@enron.com   \n",
              "3    enron.announcements@enron.com   \n",
              "4            drew.fossum@enron.com   \n",
              "..                             ...   \n",
              "98   enron.announcements@enron.com   \n",
              "99         michael.moran@enron.com   \n",
              "100        martha.benner@enron.com   \n",
              "101          drew.fossum@enron.com   \n",
              "102     ets.announcement@enron.com   \n",
              "\n",
              "                                                    To  \\\n",
              "0                              martha.benner@enron.com   \n",
              "1                              emily.sellers@enron.com   \n",
              "2                                  dloon@uschamber.com   \n",
              "3                              all.worldwide@enron.com   \n",
              "4                              danny.mccarty@enron.com   \n",
              "..                                                 ...   \n",
              "98                             all.worldwide@enron.com   \n",
              "99                          dorothy.mccoppin@enron.com   \n",
              "100  breasoner@gibbs-bruns.com, csweetland@gibbs-br...   \n",
              "101                                dloon@uschamber.com   \n",
              "102                         enron.operations@enron.com   \n",
              "\n",
              "                                               Subject  \\\n",
              "0    Re: Conference call number for Cunningham Elec...   \n",
              "1    FW: CONFIRMATION: April 20, 2001 Executive For...   \n",
              "2                                                   DC   \n",
              "3                    eThink About It: October 31, 2000   \n",
              "4    Returned mail: Host unknown (Name server: enro...   \n",
              "..                                                 ...   \n",
              "98                   Japan, India and California, too?   \n",
              "99                      Re: ETS STAFF MEETING - Jan. 2   \n",
              "100                                                      \n",
              "101                                                      \n",
              "102                           Enron/ETS Code of Ethics   \n",
              "\n",
              "                                                  Body  \n",
              "0    pls print for my wed. mtg.  thanks. df\\n------...  \n",
              "1    ---------------------- Forwarded by Drew Fossu...  \n",
              "2    What the hell is going on with you???  I'm bor...  \n",
              "3    ThinkBank went live with a bang last Friday!  ...  \n",
              "4    Danny, I'm resending as I had the same problem...  \n",
              "..                                                 ...  \n",
              "98   Enron opens an office in Japan.  Get the detai...  \n",
              "99                                        9am is fine.  \n",
              "100  In case you haven't done it already, please cr...  \n",
              "101  Acapulco.  You guys are weak.  I take my wife ...  \n",
              "102   As officers of the company, we would like to ...  \n",
              "\n",
              "[100 rows x 6 columns]"
            ],
            "text/html": [
              "\n",
              "  <div id=\"df-11616e46-8b08-4dbe-8110-8a42c2a7e1fd\" class=\"colab-df-container\">\n",
              "    <div>\n",
              "<style scoped>\n",
              "    .dataframe tbody tr th:only-of-type {\n",
              "        vertical-align: middle;\n",
              "    }\n",
              "\n",
              "    .dataframe tbody tr th {\n",
              "        vertical-align: top;\n",
              "    }\n",
              "\n",
              "    .dataframe thead th {\n",
              "        text-align: right;\n",
              "    }\n",
              "</style>\n",
              "<table border=\"1\" class=\"dataframe\">\n",
              "  <thead>\n",
              "    <tr style=\"text-align: right;\">\n",
              "      <th></th>\n",
              "      <th>Message-ID</th>\n",
              "      <th>Date</th>\n",
              "      <th>From</th>\n",
              "      <th>To</th>\n",
              "      <th>Subject</th>\n",
              "      <th>Body</th>\n",
              "    </tr>\n",
              "  </thead>\n",
              "  <tbody>\n",
              "    <tr>\n",
              "      <th>0</th>\n",
              "      <td>&lt;6433257.1075842455323.JavaMail.evans@thyme&gt;</td>\n",
              "      <td>2000-02-07 16:43:00+00:00</td>\n",
              "      <td>drew.fossum@enron.com</td>\n",
              "      <td>martha.benner@enron.com</td>\n",
              "      <td>Re: Conference call number for Cunningham Elec...</td>\n",
              "      <td>pls print for my wed. mtg.  thanks. df\\n------...</td>\n",
              "    </tr>\n",
              "    <tr>\n",
              "      <th>1</th>\n",
              "      <td>&lt;1463300.1075842546778.JavaMail.evans@thyme&gt;</td>\n",
              "      <td>2001-04-03 16:47:00+00:00</td>\n",
              "      <td>drew.fossum@enron.com</td>\n",
              "      <td>emily.sellers@enron.com</td>\n",
              "      <td>FW: CONFIRMATION: April 20, 2001 Executive For...</td>\n",
              "      <td>---------------------- Forwarded by Drew Fossu...</td>\n",
              "    </tr>\n",
              "    <tr>\n",
              "      <th>2</th>\n",
              "      <td>&lt;19805440.1075842545180.JavaMail.evans@thyme&gt;</td>\n",
              "      <td>2001-02-16 11:20:00+00:00</td>\n",
              "      <td>drew.fossum@enron.com</td>\n",
              "      <td>dloon@uschamber.com</td>\n",
              "      <td>DC</td>\n",
              "      <td>What the hell is going on with you???  I'm bor...</td>\n",
              "    </tr>\n",
              "    <tr>\n",
              "      <th>3</th>\n",
              "      <td>&lt;14315818.1075842462814.JavaMail.evans@thyme&gt;</td>\n",
              "      <td>2000-10-27 23:15:00+00:00</td>\n",
              "      <td>enron.announcements@enron.com</td>\n",
              "      <td>all.worldwide@enron.com</td>\n",
              "      <td>eThink About It: October 31, 2000</td>\n",
              "      <td>ThinkBank went live with a bang last Friday!  ...</td>\n",
              "    </tr>\n",
              "    <tr>\n",
              "      <th>4</th>\n",
              "      <td>&lt;16647528.1075842543495.JavaMail.evans@thyme&gt;</td>\n",
              "      <td>2000-12-19 09:38:00+00:00</td>\n",
              "      <td>drew.fossum@enron.com</td>\n",
              "      <td>danny.mccarty@enron.com</td>\n",
              "      <td>Returned mail: Host unknown (Name server: enro...</td>\n",
              "      <td>Danny, I'm resending as I had the same problem...</td>\n",
              "    </tr>\n",
              "    <tr>\n",
              "      <th>...</th>\n",
              "      <td>...</td>\n",
              "      <td>...</td>\n",
              "      <td>...</td>\n",
              "      <td>...</td>\n",
              "      <td>...</td>\n",
              "      <td>...</td>\n",
              "    </tr>\n",
              "    <tr>\n",
              "      <th>98</th>\n",
              "      <td>&lt;32692480.1075842464770.JavaMail.evans@thyme&gt;</td>\n",
              "      <td>2000-11-02 18:53:00+00:00</td>\n",
              "      <td>enron.announcements@enron.com</td>\n",
              "      <td>all.worldwide@enron.com</td>\n",
              "      <td>Japan, India and California, too?</td>\n",
              "      <td>Enron opens an office in Japan.  Get the detai...</td>\n",
              "    </tr>\n",
              "    <tr>\n",
              "      <th>99</th>\n",
              "      <td>&lt;17867643.1075842477555.JavaMail.evans@thyme&gt;</td>\n",
              "      <td>2000-12-11 16:26:00+00:00</td>\n",
              "      <td>michael.moran@enron.com</td>\n",
              "      <td>dorothy.mccoppin@enron.com</td>\n",
              "      <td>Re: ETS STAFF MEETING - Jan. 2</td>\n",
              "      <td>9am is fine.</td>\n",
              "    </tr>\n",
              "    <tr>\n",
              "      <th>100</th>\n",
              "      <td>&lt;12778380.1075842460009.JavaMail.evans@thyme&gt;</td>\n",
              "      <td>2000-08-07 10:46:00+00:00</td>\n",
              "      <td>martha.benner@enron.com</td>\n",
              "      <td>breasoner@gibbs-bruns.com, csweetland@gibbs-br...</td>\n",
              "      <td></td>\n",
              "      <td>In case you haven't done it already, please cr...</td>\n",
              "    </tr>\n",
              "    <tr>\n",
              "      <th>101</th>\n",
              "      <td>&lt;29580209.1075842545506.JavaMail.evans@thyme&gt;</td>\n",
              "      <td>2001-03-06 13:21:00+00:00</td>\n",
              "      <td>drew.fossum@enron.com</td>\n",
              "      <td>dloon@uschamber.com</td>\n",
              "      <td></td>\n",
              "      <td>Acapulco.  You guys are weak.  I take my wife ...</td>\n",
              "    </tr>\n",
              "    <tr>\n",
              "      <th>102</th>\n",
              "      <td>&lt;20911989.1075842470644.JavaMail.evans@thyme&gt;</td>\n",
              "      <td>2000-11-21 12:57:00+00:00</td>\n",
              "      <td>ets.announcement@enron.com</td>\n",
              "      <td>enron.operations@enron.com</td>\n",
              "      <td>Enron/ETS Code of Ethics</td>\n",
              "      <td>As officers of the company, we would like to ...</td>\n",
              "    </tr>\n",
              "  </tbody>\n",
              "</table>\n",
              "<p>100 rows × 6 columns</p>\n",
              "</div>\n",
              "    <div class=\"colab-df-buttons\">\n",
              "\n",
              "  <div class=\"colab-df-container\">\n",
              "    <button class=\"colab-df-convert\" onclick=\"convertToInteractive('df-11616e46-8b08-4dbe-8110-8a42c2a7e1fd')\"\n",
              "            title=\"Convert this dataframe to an interactive table.\"\n",
              "            style=\"display:none;\">\n",
              "\n",
              "  <svg xmlns=\"http://www.w3.org/2000/svg\" height=\"24px\" viewBox=\"0 -960 960 960\">\n",
              "    <path d=\"M120-120v-720h720v720H120Zm60-500h600v-160H180v160Zm220 220h160v-160H400v160Zm0 220h160v-160H400v160ZM180-400h160v-160H180v160Zm440 0h160v-160H620v160ZM180-180h160v-160H180v160Zm440 0h160v-160H620v160Z\"/>\n",
              "  </svg>\n",
              "    </button>\n",
              "\n",
              "  <style>\n",
              "    .colab-df-container {\n",
              "      display:flex;\n",
              "      gap: 12px;\n",
              "    }\n",
              "\n",
              "    .colab-df-convert {\n",
              "      background-color: #E8F0FE;\n",
              "      border: none;\n",
              "      border-radius: 50%;\n",
              "      cursor: pointer;\n",
              "      display: none;\n",
              "      fill: #1967D2;\n",
              "      height: 32px;\n",
              "      padding: 0 0 0 0;\n",
              "      width: 32px;\n",
              "    }\n",
              "\n",
              "    .colab-df-convert:hover {\n",
              "      background-color: #E2EBFA;\n",
              "      box-shadow: 0px 1px 2px rgba(60, 64, 67, 0.3), 0px 1px 3px 1px rgba(60, 64, 67, 0.15);\n",
              "      fill: #174EA6;\n",
              "    }\n",
              "\n",
              "    .colab-df-buttons div {\n",
              "      margin-bottom: 4px;\n",
              "    }\n",
              "\n",
              "    [theme=dark] .colab-df-convert {\n",
              "      background-color: #3B4455;\n",
              "      fill: #D2E3FC;\n",
              "    }\n",
              "\n",
              "    [theme=dark] .colab-df-convert:hover {\n",
              "      background-color: #434B5C;\n",
              "      box-shadow: 0px 1px 3px 1px rgba(0, 0, 0, 0.15);\n",
              "      filter: drop-shadow(0px 1px 2px rgba(0, 0, 0, 0.3));\n",
              "      fill: #FFFFFF;\n",
              "    }\n",
              "  </style>\n",
              "\n",
              "    <script>\n",
              "      const buttonEl =\n",
              "        document.querySelector('#df-11616e46-8b08-4dbe-8110-8a42c2a7e1fd button.colab-df-convert');\n",
              "      buttonEl.style.display =\n",
              "        google.colab.kernel.accessAllowed ? 'block' : 'none';\n",
              "\n",
              "      async function convertToInteractive(key) {\n",
              "        const element = document.querySelector('#df-11616e46-8b08-4dbe-8110-8a42c2a7e1fd');\n",
              "        const dataTable =\n",
              "          await google.colab.kernel.invokeFunction('convertToInteractive',\n",
              "                                                    [key], {});\n",
              "        if (!dataTable) return;\n",
              "\n",
              "        const docLinkHtml = 'Like what you see? Visit the ' +\n",
              "          '<a target=\"_blank\" href=https://colab.research.google.com/notebooks/data_table.ipynb>data table notebook</a>'\n",
              "          + ' to learn more about interactive tables.';\n",
              "        element.innerHTML = '';\n",
              "        dataTable['output_type'] = 'display_data';\n",
              "        await google.colab.output.renderOutput(dataTable, element);\n",
              "        const docLink = document.createElement('div');\n",
              "        docLink.innerHTML = docLinkHtml;\n",
              "        element.appendChild(docLink);\n",
              "      }\n",
              "    </script>\n",
              "  </div>\n",
              "\n",
              "\n",
              "<div id=\"df-382377be-a01a-47fb-87e9-1f3fb2eab0f2\">\n",
              "  <button class=\"colab-df-quickchart\" onclick=\"quickchart('df-382377be-a01a-47fb-87e9-1f3fb2eab0f2')\"\n",
              "            title=\"Suggest charts\"\n",
              "            style=\"display:none;\">\n",
              "\n",
              "<svg xmlns=\"http://www.w3.org/2000/svg\" height=\"24px\"viewBox=\"0 0 24 24\"\n",
              "     width=\"24px\">\n",
              "    <g>\n",
              "        <path d=\"M19 3H5c-1.1 0-2 .9-2 2v14c0 1.1.9 2 2 2h14c1.1 0 2-.9 2-2V5c0-1.1-.9-2-2-2zM9 17H7v-7h2v7zm4 0h-2V7h2v10zm4 0h-2v-4h2v4z\"/>\n",
              "    </g>\n",
              "</svg>\n",
              "  </button>\n",
              "\n",
              "<style>\n",
              "  .colab-df-quickchart {\n",
              "      --bg-color: #E8F0FE;\n",
              "      --fill-color: #1967D2;\n",
              "      --hover-bg-color: #E2EBFA;\n",
              "      --hover-fill-color: #174EA6;\n",
              "      --disabled-fill-color: #AAA;\n",
              "      --disabled-bg-color: #DDD;\n",
              "  }\n",
              "\n",
              "  [theme=dark] .colab-df-quickchart {\n",
              "      --bg-color: #3B4455;\n",
              "      --fill-color: #D2E3FC;\n",
              "      --hover-bg-color: #434B5C;\n",
              "      --hover-fill-color: #FFFFFF;\n",
              "      --disabled-bg-color: #3B4455;\n",
              "      --disabled-fill-color: #666;\n",
              "  }\n",
              "\n",
              "  .colab-df-quickchart {\n",
              "    background-color: var(--bg-color);\n",
              "    border: none;\n",
              "    border-radius: 50%;\n",
              "    cursor: pointer;\n",
              "    display: none;\n",
              "    fill: var(--fill-color);\n",
              "    height: 32px;\n",
              "    padding: 0;\n",
              "    width: 32px;\n",
              "  }\n",
              "\n",
              "  .colab-df-quickchart:hover {\n",
              "    background-color: var(--hover-bg-color);\n",
              "    box-shadow: 0 1px 2px rgba(60, 64, 67, 0.3), 0 1px 3px 1px rgba(60, 64, 67, 0.15);\n",
              "    fill: var(--button-hover-fill-color);\n",
              "  }\n",
              "\n",
              "  .colab-df-quickchart-complete:disabled,\n",
              "  .colab-df-quickchart-complete:disabled:hover {\n",
              "    background-color: var(--disabled-bg-color);\n",
              "    fill: var(--disabled-fill-color);\n",
              "    box-shadow: none;\n",
              "  }\n",
              "\n",
              "  .colab-df-spinner {\n",
              "    border: 2px solid var(--fill-color);\n",
              "    border-color: transparent;\n",
              "    border-bottom-color: var(--fill-color);\n",
              "    animation:\n",
              "      spin 1s steps(1) infinite;\n",
              "  }\n",
              "\n",
              "  @keyframes spin {\n",
              "    0% {\n",
              "      border-color: transparent;\n",
              "      border-bottom-color: var(--fill-color);\n",
              "      border-left-color: var(--fill-color);\n",
              "    }\n",
              "    20% {\n",
              "      border-color: transparent;\n",
              "      border-left-color: var(--fill-color);\n",
              "      border-top-color: var(--fill-color);\n",
              "    }\n",
              "    30% {\n",
              "      border-color: transparent;\n",
              "      border-left-color: var(--fill-color);\n",
              "      border-top-color: var(--fill-color);\n",
              "      border-right-color: var(--fill-color);\n",
              "    }\n",
              "    40% {\n",
              "      border-color: transparent;\n",
              "      border-right-color: var(--fill-color);\n",
              "      border-top-color: var(--fill-color);\n",
              "    }\n",
              "    60% {\n",
              "      border-color: transparent;\n",
              "      border-right-color: var(--fill-color);\n",
              "    }\n",
              "    80% {\n",
              "      border-color: transparent;\n",
              "      border-right-color: var(--fill-color);\n",
              "      border-bottom-color: var(--fill-color);\n",
              "    }\n",
              "    90% {\n",
              "      border-color: transparent;\n",
              "      border-bottom-color: var(--fill-color);\n",
              "    }\n",
              "  }\n",
              "</style>\n",
              "\n",
              "  <script>\n",
              "    async function quickchart(key) {\n",
              "      const quickchartButtonEl =\n",
              "        document.querySelector('#' + key + ' button');\n",
              "      quickchartButtonEl.disabled = true;  // To prevent multiple clicks.\n",
              "      quickchartButtonEl.classList.add('colab-df-spinner');\n",
              "      try {\n",
              "        const charts = await google.colab.kernel.invokeFunction(\n",
              "            'suggestCharts', [key], {});\n",
              "      } catch (error) {\n",
              "        console.error('Error during call to suggestCharts:', error);\n",
              "      }\n",
              "      quickchartButtonEl.classList.remove('colab-df-spinner');\n",
              "      quickchartButtonEl.classList.add('colab-df-quickchart-complete');\n",
              "    }\n",
              "    (() => {\n",
              "      let quickchartButtonEl =\n",
              "        document.querySelector('#df-382377be-a01a-47fb-87e9-1f3fb2eab0f2 button');\n",
              "      quickchartButtonEl.style.display =\n",
              "        google.colab.kernel.accessAllowed ? 'block' : 'none';\n",
              "    })();\n",
              "  </script>\n",
              "</div>\n",
              "\n",
              "    </div>\n",
              "  </div>\n"
            ],
            "application/vnd.google.colaboratory.intrinsic+json": {
              "type": "dataframe",
              "variable_name": "df",
              "summary": "{\n  \"name\": \"df\",\n  \"rows\": 12632,\n  \"fields\": [\n    {\n      \"column\": \"Message-ID\",\n      \"properties\": {\n        \"dtype\": \"string\",\n        \"num_unique_values\": 12632,\n        \"samples\": [\n          \"<25912747.1075852466727.JavaMail.evans@thyme>\",\n          \"<5866097.1075851578087.JavaMail.evans@thyme>\",\n          \"<3488265.1075844453284.JavaMail.evans@thyme>\"\n        ],\n        \"semantic_type\": \"\",\n        \"description\": \"\"\n      }\n    },\n    {\n      \"column\": \"Date\",\n      \"properties\": {\n        \"dtype\": \"date\",\n        \"min\": \"1980-01-01 00:00:00+00:00\",\n        \"max\": \"2004-02-04 02:14:47+00:00\",\n        \"num_unique_values\": 6482,\n        \"samples\": [\n          \"2001-11-24 00:56:49+00:00\",\n          \"2001-07-20 21:04:31+00:00\",\n          \"2001-02-21 10:59:00+00:00\"\n        ],\n        \"semantic_type\": \"\",\n        \"description\": \"\"\n      }\n    },\n    {\n      \"column\": \"From\",\n      \"properties\": {\n        \"dtype\": \"category\",\n        \"num_unique_values\": 1968,\n        \"samples\": [\n          \"fgiffels@hgp-inc.com\",\n          \"s..ward@enron.com\",\n          \"tony.pryor@enron.com\"\n        ],\n        \"semantic_type\": \"\",\n        \"description\": \"\"\n      }\n    },\n    {\n      \"column\": \"To\",\n      \"properties\": {\n        \"dtype\": \"category\",\n        \"num_unique_values\": 2906,\n        \"samples\": [\n          \"jalexander@gibbs-bruns.com, breasoner@gibbs-bruns.com, britt.davis@enron.com\",\n          \"scott.neal@enron.com, hunter.shively@enron.com, julie.gomez@enron.com\",\n          \"david.aamodt@enron.com, al.alexanderson@enron.com, jim.armogida@enron.com, \\n\\tdrew.fossum@enron.com, mark.haedicke@enron.com, \\n\\tron.johnson@enron.com, elizabeth.labanowski@enron.com, \\n\\tmichael.moran@enron.com, janet.place@enron.com, rex.rogers@enron.com, \\n\\trichard.sanders@enron.com, vicki.sharp@enron.com, \\n\\trob.walls@enron.com, robert.williams@enron.com, \\n\\tmichelle.blaine@enron.com, john.ale@enron.com, \\n\\tgail.brownfeld@enron.com, frank.sayre@enron.com, \\n\\tstephanie.harris@enron.com, kristina.mordaunt@enron.com, \\n\\tmolly.sample@enron.com, bruce.lundstrom@enron.com, \\n\\tdaniel.rogers@enron.com, john.schwartzenburg@enron.com, \\n\\tscott.sefton@enron.com, stephen.wallace@enron.com, \\n\\tmarc.manly@enron.com, walt.zimmerman@enron.com, jan.cooley@enron.com, \\n\\trandy.young@enron.com, jordan.mintz@enron.com\"\n        ],\n        \"semantic_type\": \"\",\n        \"description\": \"\"\n      }\n    },\n    {\n      \"column\": \"Subject\",\n      \"properties\": {\n        \"dtype\": \"category\",\n        \"num_unique_values\": 5067,\n        \"samples\": [\n          \"AON Contact Number\",\n          \"Re: Introduction\",\n          \"FYI : Justice Department Investigation\"\n        ],\n        \"semantic_type\": \"\",\n        \"description\": \"\"\n      }\n    },\n    {\n      \"column\": \"Body\",\n      \"properties\": {\n        \"dtype\": \"string\",\n        \"num_unique_values\": 6548,\n        \"samples\": [\n          \"ssss\",\n          \"To:\\t     Management Committee Members\\nFrom:  Cindy Olson, Beth Tilney and Mark Palmer\\nThe attached is the results of the Focus Groups that we conducted per our action plan from the \\\"Lay it on the Line Survey\\\".  Frank Luntz will be at the Management Committee meeting today to discuss this information.\\n\\n \\n\\n\\n\\n\\n  \",\n          \"http://www.cdc.noaa.gov/USclimate/USclimdivs.html\"\n        ],\n        \"semantic_type\": \"\",\n        \"description\": \"\"\n      }\n    }\n  ]\n}"
            }
          },
          "metadata": {},
          "execution_count": 9
        }
      ]
    },
    {
      "cell_type": "code",
      "source": [
        "import pandas as pd\n",
        "\n",
        "# Count of Emails Sent by Each Sender\n",
        "sender_counts = df[\"From\"].value_counts()\n",
        "\n",
        "# Count of Emails Received by Each Recipient\n",
        "df[\"To\"] = df[\"To\"].astype(str)  # Ensure all values are strings\n",
        "all_recipients = df[\"To\"].str.split(\",\").explode()  # Split multiple recipients\n",
        "recipient_counts = all_recipients.value_counts()\n",
        "\n",
        "# Identify External Emails (Not @enron.com)\n",
        "df[\"External_Sender\"] = ~df[\"From\"].str.contains(\"@enron.com\", na=False)\n",
        "df[\"External_Recipient\"] = ~df[\"To\"].str.contains(\"@enron.com\", na=False)\n",
        "\n",
        "# Count Unique External Senders & Recipients\n",
        "unique_external_senders = df[df[\"External_Sender\"]][\"From\"].nunique()\n",
        "unique_external_recipients = df[df[\"External_Recipient\"]][\"To\"].nunique()\n",
        "\n",
        "# Display Insights\n",
        "print(f\"✅ Total Unique External Senders: {unique_external_senders}\")\n",
        "print(f\"✅ Total Unique External Recipients: {unique_external_recipients}\")\n",
        "\n",
        "# Show Top 400 Recipients\n",
        "top_400_recipients = recipient_counts.head(400)\n",
        "\n",
        "# Show Top 400 Senders\n",
        "top_400_senders = sender_counts.head(400)\n",
        "\n",
        "# Display as DataFrames\n",
        "print(\"\\n📌 **Top 10 Recipients**\")\n",
        "print(top_400_recipients.head(10))\n",
        "\n",
        "print(\"\\n📌 **Top 10 Senders**\")\n",
        "print(top_400_senders.head(10))\n",
        "\n",
        "# Save results to CSV for easy download\n",
        "top_400_recipients.to_csv(\"/content/Top_400_Recipients.csv\")\n",
        "top_400_senders.to_csv(\"/content/Top_400_Senders.csv\")\n",
        "\n",
        "print(\"\\n✅ CSV files saved: 'Top_400_Recipients.csv' and 'Top_400_Senders.csv'\")\n"
      ],
      "metadata": {
        "id": "uPLA3pyKb8O1",
        "colab": {
          "base_uri": "https://localhost:8080/"
        },
        "outputId": "46e6f762-6204-46de-fb97-ceb3f4436e97"
      },
      "execution_count": null,
      "outputs": [
        {
          "output_type": "stream",
          "name": "stdout",
          "text": [
            "✅ Total Unique External Senders: 564\n",
            "✅ Total Unique External Recipients: 345\n",
            "\n",
            "📌 **Top 10 Recipients**\n",
            "To\n",
            "gabriel.monroy@enron.com    742\n",
            "martha.benner@enron.com     658\n",
            "john.lavorato@enron.com     372\n",
            "susan.scott@enron.com       335\n",
            "kori.loibl@enron.com        287\n",
            " drew.fossum@enron.com      252\n",
            "drew.fossum@enron.com       225\n",
            " mary.miller@enron.com      215\n",
            "becky.pitre@enron.com       184\n",
            " susan.scott@enron.com      180\n",
            "Name: count, dtype: int64\n",
            "\n",
            "📌 **Top 10 Senders**\n",
            "From\n",
            "drew.fossum@enron.com            3575\n",
            "robin.rodrigue@enron.com         2477\n",
            "john.lavorato@enron.com          1076\n",
            "stacy.dickson@enron.com           378\n",
            "enron.announcements@enron.com     102\n",
            "lorna.brennan@enron.com            83\n",
            "kathy.reeves@enron.com             75\n",
            "c.griffin@enron.com                75\n",
            "kimberly.hillis@enron.com          69\n",
            "susan.scott@enron.com              64\n",
            "Name: count, dtype: int64\n",
            "\n",
            "✅ CSV files saved: 'Top_400_Recipients.csv' and 'Top_400_Senders.csv'\n"
          ]
        }
      ]
    },
    {
      "cell_type": "code",
      "source": [
        "# Find the most common email subjects (Top 20)\n",
        "subject_counts = df[\"Subject\"].value_counts().head(20)\n",
        "\n",
        "print(\"\\n📌 **Most Common Email Subjects:**\")\n",
        "print(subject_counts)\n"
      ],
      "metadata": {
        "id": "HtmrihuLdKTO",
        "colab": {
          "base_uri": "https://localhost:8080/"
        },
        "outputId": "edf11786-433c-4651-efda-c079da17cc26"
      },
      "execution_count": null,
      "outputs": [
        {
          "output_type": "stream",
          "name": "stdout",
          "text": [
            "\n",
            "📌 **Most Common Email Subjects:**\n",
            "Subject\n",
            "                                              835\n",
            "Re:                                           343\n",
            "VAR                                           184\n",
            "Pueblo                                         91\n",
            "EES Volumetric Positions                       75\n",
            "Re: FW: Organization Announcement              52\n",
            "Re: Pueblo                                     34\n",
            "RE:                                            33\n",
            "PS                                             31\n",
            "Re: Organization Announcement                  28\n",
            "Re: PS                                         27\n",
            "Re: Citizens request for proposal              25\n",
            "Re: Hey                                        24\n",
            "CCT VAR                                        24\n",
            "Re: Lunch                                      24\n",
            "Re: TW                                         22\n",
            "FW:                                            22\n",
            "Re: Transwestern Contract Approval Request     21\n",
            "CCT                                            20\n",
            "Re: FERC Request                               19\n",
            "Name: count, dtype: int64\n"
          ]
        }
      ]
    },
    {
      "cell_type": "code",
      "source": [
        "from sklearn.ensemble import IsolationForest\n",
        "\n",
        "# Feature Engineering: Extract email lengths and hour of sending\n",
        "df[\"Body_Length\"] = df[\"Body\"].str.len()\n",
        "df[\"Hour\"] = df[\"Date\"].dt.hour\n",
        "\n",
        "# Train Isolation Forest Model for Anomaly Detection\n",
        "iso_forest = IsolationForest(n_estimators=100, contamination=0.01, random_state=42)\n",
        "df[\"Anomaly_Score\"] = iso_forest.fit_predict(df[[\"Body_Length\", \"Hour\"]])\n",
        "\n",
        "# Show the number of detected anomalies\n",
        "anomalies_count = (df[\"Anomaly_Score\"] == -1).sum()\n",
        "print(f\"🚨 Detected {anomalies_count} potential anomalies.\")\n"
      ],
      "metadata": {
        "id": "Z0kh76p7ecYo",
        "colab": {
          "base_uri": "https://localhost:8080/"
        },
        "outputId": "869ec790-1465-4935-8f99-cd2e4d6e9efb"
      },
      "execution_count": null,
      "outputs": [
        {
          "output_type": "stream",
          "name": "stdout",
          "text": [
            "🚨 Detected 127 potential anomalies.\n"
          ]
        }
      ]
    },
    {
      "cell_type": "code",
      "source": [
        "import re\n",
        "from bs4 import BeautifulSoup\n",
        "from bs4 import MarkupResemblesLocatorWarning\n",
        "import warnings\n",
        "\n",
        "# Suppress BeautifulSoup warnings about URL-like text\n",
        "warnings.filterwarnings(\"ignore\", category=MarkupResemblesLocatorWarning)\n"
      ],
      "metadata": {
        "id": "uaNCj7t5y0LU"
      },
      "execution_count": null,
      "outputs": []
    },
    {
      "cell_type": "code",
      "source": [
        "# Dictionary to replace common obfuscated words with their correct form\n",
        "obfuscation_replacements = {\n",
        "    \"cl1ck\": \"click\", \"fr33\": \"free\", \"m0ney\": \"money\", \"pr1ze\": \"prize\",\n",
        "    \"cred1t\": \"credit\", \"l0gin\": \"login\", \"v3rify\": \"verify\", \"act n0w\": \"act now\",\n",
        "    \"suspici0us\": \"suspicious\", \"€\": \"e\", \"@\": \"a\", \"0\": \"o\", \"1\": \"i\", \"3\": \"e\", \"5\": \"s\"\n",
        "}\n"
      ],
      "metadata": {
        "id": "tEXqwDkq_rWg"
      },
      "execution_count": null,
      "outputs": []
    },
    {
      "cell_type": "code",
      "source": [
        "obfuscation_patterns = [\n",
        "    r\"[^a-zA-Z\\s]\",  # Special characters (e.g., $, @, !, %, etc.)\n",
        "    r\"\\b\\w+\\d+\\w*\\b\",  # Words mixed with numbers (e.g., \"Fr33\", \"M0ney\")\n",
        "    r\"\\b\\w+[-_]+\\w*\\b\",  # Words with special characters in between (e.g., \"F_R_E_E\")\n",
        "    r\"&#\\d+;\",  # HTML character encoding\n",
        "    r\"<font color=['\\\"]?white['\\\"]?>.*?</font>\",  # Hidden text in white font\n",
        "]\n"
      ],
      "metadata": {
        "id": "u3XSywiK_teg"
      },
      "execution_count": null,
      "outputs": []
    },
    {
      "cell_type": "code",
      "source": [
        "def normalize_obfuscation(text):\n",
        "    \"\"\"Replaces obfuscated words with their correct form.\"\"\"\n",
        "    if not text:\n",
        "        return \"\"\n",
        "\n",
        "    text = text.lower()\n",
        "    for obf, normal in obfuscation_replacements.items():\n",
        "        text = text.replace(obf, normal)\n",
        "    return text\n"
      ],
      "metadata": {
        "id": "CxBTV7TM_vyD"
      },
      "execution_count": null,
      "outputs": []
    },
    {
      "cell_type": "code",
      "source": [
        "def detect_obfuscation(text):\n",
        "    \"\"\"Checks if an email contains obfuscation techniques and calculates obfuscation percentage.\"\"\"\n",
        "    if not text:\n",
        "        return 0  # No obfuscation if text is empty\n",
        "\n",
        "    normalized_text = normalize_obfuscation(text)\n",
        "    total_words = len(normalized_text.split())\n",
        "    obfuscated_words = 0\n",
        "\n",
        "    # Check for common obfuscation patterns\n",
        "    for pattern in obfuscation_patterns:\n",
        "        matches = re.findall(pattern, normalized_text)\n",
        "        obfuscated_words += len(matches)\n",
        "\n",
        "    # Detect hidden text (e.g., white font HTML)\n",
        "    soup = BeautifulSoup(text, \"html.parser\")\n",
        "    if soup.find_all(style=re.compile(\"color:\\s*white\", re.IGNORECASE)):\n",
        "        obfuscated_words += 1  # Count hidden text as one obfuscation instance\n",
        "\n",
        "    # Calculate obfuscation percentage\n",
        "    if total_words > 0:\n",
        "        obfuscation_percentage = (obfuscated_words / total_words) * 100\n",
        "    else:\n",
        "        obfuscation_percentage = 0\n",
        "\n",
        "    return obfuscation_percentage  # Returns a percentage value\n"
      ],
      "metadata": {
        "id": "vJMmSart_yBm"
      },
      "execution_count": null,
      "outputs": []
    },
    {
      "cell_type": "code",
      "source": [
        "def clean_text(text):\n",
        "    \"\"\"Removes obfuscation and cleans email content.\"\"\"\n",
        "    if not text:\n",
        "        return \"\"\n",
        "\n",
        "    # Normalize obfuscation first\n",
        "    text = normalize_obfuscation(text)\n",
        "\n",
        "    # Remove special characters except spaces and letters\n",
        "    text = re.sub(r\"[^a-zA-Z\\s]\", \"\", text)\n",
        "\n",
        "    # Remove numbers inside words (e.g., \"Fr33\" → \"Free\")\n",
        "    text = re.sub(r\"\\b\\w*\\d\\w*\\b\", \"\", text)\n",
        "\n",
        "    # Use BeautifulSoup to remove HTML tags\n",
        "    soup = BeautifulSoup(text, \"html.parser\")\n",
        "    for tag in soup.find_all(style=re.compile(\"color:\\s*white\", re.IGNORECASE)):\n",
        "        tag.decompose()\n",
        "\n",
        "    return soup.get_text().strip()\n"
      ],
      "metadata": {
        "id": "E77SiNYR9qGH"
      },
      "execution_count": null,
      "outputs": []
    },
    {
      "cell_type": "code",
      "source": [
        "import numpy as np\n",
        "from sklearn.preprocessing import LabelEncoder\n",
        "\n",
        "# Define the path to `spam_keywords.txt` inside Google Drive\n",
        "spam_keywords_path = \"/content/drive/My Drive/EnronDataset/maildir/spam_keywords.txt\"\n",
        "\n",
        "def load_spam_keywords(filepath=spam_keywords_path):\n",
        "    \"\"\"Loads spam keywords from a file instead of hardcoding.\"\"\"\n",
        "    try:\n",
        "        with open(filepath, \"r\", encoding=\"utf-8\") as file:\n",
        "            keywords = [line.strip().lower() for line in file if line.strip()]\n",
        "        return keywords\n",
        "    except FileNotFoundError:\n",
        "        print(f\"⚠️ Error: {filepath} not found. Ensure the file is correctly placed in Google Drive.\")\n",
        "        return []  # Return an empty list if the file is missing\n",
        "\n",
        "# 📌 Step 4: Retrieve and Display Spam Keywords from Google Drive\n",
        "spam_keywords = load_spam_keywords()\n",
        "\n",
        "if spam_keywords:\n",
        "    print(f\"✅ Loaded {len(spam_keywords)} spam-related keywords.\")\n",
        "    print(\"📌 Sample Keywords:\", spam_keywords[:10])  # Show first 10 keywords for verification\n",
        "else:\n",
        "    print(\"⚠️ No spam keywords loaded. Check if the file exists in Google Drive.\")\n",
        "\n",
        "\n",
        "\n"
      ],
      "metadata": {
        "id": "Mzai_R45L-xW",
        "colab": {
          "base_uri": "https://localhost:8080/"
        },
        "outputId": "72405529-b982-480e-ced9-ed2ef266371d"
      },
      "execution_count": null,
      "outputs": [
        {
          "output_type": "stream",
          "name": "stdout",
          "text": [
            "✅ Loaded 50 spam-related keywords.\n",
            "📌 Sample Keywords: ['free', 'win', 'offer', 'money', 'cash', 'lottery', 'prize', 'discount', 'urgent', 'click']\n"
          ]
        }
      ]
    },
    {
      "cell_type": "code",
      "source": [
        "def classify_spam(subject, body, sender_email):\n",
        "    \"\"\"Classifies an email as Spam if it contains spam keywords or excessive obfuscation.\"\"\"\n",
        "    subject_lower = str(subject).lower() if subject else \"\"\n",
        "    body_lower = str(body).lower() if body else \"\"\n",
        "\n",
        "    # Calculate obfuscation percentage\n",
        "    obfuscation_percentage = detect_obfuscation(subject_lower) or detect_obfuscation(body_lower)\n",
        "\n",
        "    # Check for spam keywords in subject or body\n",
        "    contains_spam_keywords = any(word in subject_lower for word in spam_keywords) or \\\n",
        "                             any(word in body_lower for word in spam_keywords)\n",
        "\n",
        "    # **Updated Condition 1**: If email has spam keywords OR obfuscation > 25%, classify as Spam\n",
        "    if contains_spam_keywords or (obfuscation_percentage > 25 and not sender_email.endswith(\"@enron.com\")):\n",
        "        return \"Spam\"\n",
        "\n",
        "    return \"Ham\"\n",
        "\n",
        "  # Ensure spam classification is applied\n",
        "df[\"Label\"] = df.apply(lambda x: classify_spam(x[\"Subject\"], x[\"Body\"], x[\"From\"]), axis=1)\n",
        "\n",
        "# Encode labels (Spam = 1, Ham = 0)\n",
        "label_encoder = LabelEncoder()\n",
        "y = label_encoder.fit_transform(df[\"Label\"])\n"
      ],
      "metadata": {
        "id": "MEWaia9IBcO3"
      },
      "execution_count": null,
      "outputs": []
    },
    {
      "cell_type": "code",
      "source": [
        "# Ensure `df` exists before applying transformations\n",
        "if \"Body\" in df.columns:\n",
        "    df[\"Obfuscated\"] = df[\"Body\"].apply(detect_obfuscation)  # Detect if email is obfuscated\n",
        "    df[\"Cleaned_Body\"] = df[\"Body\"].apply(clean_text)  # Clean text from obfuscation\n",
        "else:\n",
        "    print(\"⚠️ Error: 'Body' column not found in the dataset. Ensure the dataset is loaded properly.\")\n"
      ],
      "metadata": {
        "id": "4FkUCoHX_-9N"
      },
      "execution_count": null,
      "outputs": []
    },
    {
      "cell_type": "code",
      "source": [
        "from sklearn.feature_extraction.text import TfidfVectorizer\n",
        "\n",
        "# Optimized TF-IDF Vectorizer\n",
        "vectorizer = TfidfVectorizer(\n",
        "    max_features=7000,\n",
        "    stop_words=\"english\",\n",
        "    ngram_range=(1, 3),\n",
        "    sublinear_tf=True,\n",
        "    norm='l2',\n",
        "    use_idf=True,\n",
        "    smooth_idf=True\n",
        ")\n",
        "\n",
        "\n",
        "\n",
        "# Convert cleaned email bodies into numerical features\n",
        "X = vectorizer.fit_transform(df[\"Cleaned_Body\"])  # Use cleaned text instead of raw text\n"
      ],
      "metadata": {
        "id": "e5uhWvxNfuNB"
      },
      "execution_count": null,
      "outputs": []
    },
    {
      "cell_type": "code",
      "source": [
        "# 📌 Step 1: Ensure Required Columns Exist Before Displaying\n",
        "required_columns = [\"Cleaned_Body\", \"Obfuscated\", \"Label\"]\n",
        "\n",
        "# Check if all required columns exist\n",
        "missing_columns = [col for col in required_columns if col not in df.columns]\n",
        "if missing_columns:\n",
        "    print(f\"⚠️ Error: Missing columns - {missing_columns}. Ensure preprocessing is applied before displaying.\")\n",
        "else:\n",
        "    # 📌 Step 2: Show Top 5 Rows of Cleaned Text, Obfuscation Detection, and Classification\n",
        "    print(\"\\n📌 **Top 5 Rows of Cleaned Email Data Before Train-Test Split:**\\n\")\n",
        "    print(df[[\"Cleaned_Body\", \"Obfuscated\", \"Label\"]].head(5))\n"
      ],
      "metadata": {
        "id": "OKPltCDb5Rzz",
        "colab": {
          "base_uri": "https://localhost:8080/"
        },
        "outputId": "a6c9c763-dca5-49e9-99fe-054cdd0fa39b"
      },
      "execution_count": null,
      "outputs": [
        {
          "output_type": "stream",
          "name": "stdout",
          "text": [
            "\n",
            "📌 **Top 5 Rows of Cleaned Email Data Before Train-Test Split:**\n",
            "\n",
            "                                        Cleaned_Body  Obfuscated Label\n",
            "0  pls print for my wed mtg  thanks df\\n forwarde...  165.384615   Ham\n",
            "1  forwarded by drew fossumetsenron on ooeooi \\no...  117.391304  Spam\n",
            "2  what the hell is going on with you  im bored a...   28.301887   Ham\n",
            "3  thinkbank went live with a bang last friday  t...   23.728814  Spam\n",
            "4  danny im resending as i had the same problem c...   86.029412  Spam\n"
          ]
        }
      ]
    },
    {
      "cell_type": "code",
      "source": [
        "from sklearn.model_selection import train_test_split\n",
        "from sklearn.ensemble import RandomForestClassifier, GradientBoostingClassifier, StackingClassifier, HistGradientBoostingClassifier\n",
        "from sklearn.naive_bayes import MultinomialNB\n",
        "from sklearn.linear_model import RidgeClassifier, SGDClassifier\n",
        "from sklearn.svm import LinearSVC\n",
        "from sklearn.metrics import accuracy_score\n",
        "\n",
        "# Train-test split using cleaned text\n",
        "X_train, X_test, y_train, y_test = train_test_split(X, y, test_size=0.3, random_state=42)\n",
        "\n",
        "\n",
        "models = {\n",
        "    \"NaiveBayes\": MultinomialNB(),\n",
        "    \"RidgeClassifier\": RidgeClassifier(),\n",
        "    \"SGDClassifier\": SGDClassifier(max_iter=1000, tol=1e-3),  # Fast linear classifier\n",
        "    \"RandomForest\": RandomForestClassifier(n_estimators=100, random_state=42, n_jobs=-1),\n",
        "    \"LinearSVC\": LinearSVC()\n",
        "}\n",
        "\n",
        "# Stacking Classifier\n",
        "stacking_clf = StackingClassifier(\n",
        "    estimators=[(name, model) for name, model in models.items()],\n",
        "    final_estimator=HistGradientBoostingClassifier()\n",
        ")\n",
        "\n",
        "# Train and evaluate models\n",
        "model_scores = {}\n",
        "\n",
        "for name, model in models.items():\n",
        "    model.fit(X_train, y_train)\n",
        "    y_pred = model.predict(X_test)\n",
        "    accuracy = accuracy_score(y_test, y_pred)\n",
        "    model_scores[name] = accuracy\n",
        "    print(f\"✅ {name} Accuracy: {accuracy:.4f}\")\n",
        "\n",
        "# Train and evaluate Stacking Classifier\n",
        "stacking_clf.fit(X_train, y_train)\n",
        "y_pred_stacking = stacking_clf.predict(X_test)\n",
        "stacking_accuracy = accuracy_score(y_test, y_pred_stacking)\n",
        "model_scores[\"Stacking\"] = stacking_accuracy\n",
        "print(f\"🚀 Stacking Classifier Accuracy: {stacking_accuracy:.4f}\")\n"
      ],
      "metadata": {
        "id": "sLOqCIqRf0cQ",
        "colab": {
          "base_uri": "https://localhost:8080/"
        },
        "outputId": "f9951e7e-a092-46e1-bcba-991f40c784a5"
      },
      "execution_count": null,
      "outputs": [
        {
          "output_type": "stream",
          "name": "stdout",
          "text": [
            "✅ NaiveBayes Accuracy: 0.8216\n",
            "✅ RidgeClassifier Accuracy: 0.9351\n",
            "✅ SGDClassifier Accuracy: 0.9385\n",
            "✅ RandomForest Accuracy: 0.9528\n",
            "✅ LinearSVC Accuracy: 0.9417\n",
            "🚀 Stacking Classifier Accuracy: 0.9520\n"
          ]
        }
      ]
    },
    {
      "cell_type": "code",
      "source": [
        "from sklearn.metrics import classification_report\n",
        "\n",
        "# Evaluate Naive Bayes\n",
        "y_pred_nb = models[\"NaiveBayes\"].predict(X_test)\n",
        "report_nb = classification_report(y_test, y_pred_nb, target_names=[\"Ham\", \"Spam\"])\n",
        "print(f\"📊 NaiveBayes Classification Report:\\n\", report_nb)\n"
      ],
      "metadata": {
        "id": "LhSm4Wr2hwa9",
        "colab": {
          "base_uri": "https://localhost:8080/"
        },
        "outputId": "2f63dd62-23e3-4748-ff19-9b3de66baffe"
      },
      "execution_count": null,
      "outputs": [
        {
          "output_type": "stream",
          "name": "stdout",
          "text": [
            "📊 NaiveBayes Classification Report:\n",
            "               precision    recall  f1-score   support\n",
            "\n",
            "         Ham       0.83      0.88      0.86      2311\n",
            "        Spam       0.80      0.72      0.76      1479\n",
            "\n",
            "    accuracy                           0.82      3790\n",
            "   macro avg       0.82      0.80      0.81      3790\n",
            "weighted avg       0.82      0.82      0.82      3790\n",
            "\n"
          ]
        }
      ]
    },
    {
      "cell_type": "code",
      "source": [
        "import matplotlib.pyplot as plt\n",
        "import seaborn as sns\n",
        "from sklearn.metrics import confusion_matrix\n",
        "\n",
        "# Generate Confusion Matrix for Naive Bayes\n",
        "cm_nb = confusion_matrix(y_test, y_pred_nb)\n",
        "\n",
        "# Plot Confusion Matrix\n",
        "plt.figure(figsize=(5, 4))\n",
        "sns.heatmap(cm_nb, annot=True, fmt='d', cmap=\"Blues\", xticklabels=[\"Ham\", \"Spam\"], yticklabels=[\"Ham\", \"Spam\"])\n",
        "plt.xlabel(\"Predicted Label\")\n",
        "plt.ylabel(\"Actual Label\")\n",
        "plt.title(\"Confusion Matrix - Naive Bayes\")\n",
        "plt.show()\n"
      ],
      "metadata": {
        "id": "ascNSjEgq0pH",
        "colab": {
          "base_uri": "https://localhost:8080/",
          "height": 410
        },
        "outputId": "e72ea672-1ec6-40ff-9dfb-d65af54e8819"
      },
      "execution_count": null,
      "outputs": [
        {
          "output_type": "display_data",
          "data": {
            "text/plain": [
              "<Figure size 500x400 with 2 Axes>"
            ],
            "image/png": "[encoded data removed]"
          },
          "metadata": {}
        }
      ]
    },
    {
      "cell_type": "code",
      "source": [
        "from sklearn.metrics import classification_report\n",
        "\n",
        "# Evaluate Ridge Classifier\n",
        "y_pred_ridge = models[\"RidgeClassifier\"].predict(X_test)\n",
        "report_ridge = classification_report(y_test, y_pred_ridge, target_names=[\"Ham\", \"Spam\"])\n",
        "print(f\"📊 RidgeClassifier Classification Report:\\n\", report_ridge)\n"
      ],
      "metadata": {
        "id": "hfD0rjJph1Mg",
        "colab": {
          "base_uri": "https://localhost:8080/"
        },
        "outputId": "bf8d7c74-20f2-4b0e-ca98-bac036895e62"
      },
      "execution_count": null,
      "outputs": [
        {
          "output_type": "stream",
          "name": "stdout",
          "text": [
            "📊 RidgeClassifier Classification Report:\n",
            "               precision    recall  f1-score   support\n",
            "\n",
            "         Ham       0.93      0.96      0.95      2311\n",
            "        Spam       0.94      0.89      0.91      1479\n",
            "\n",
            "    accuracy                           0.94      3790\n",
            "   macro avg       0.94      0.93      0.93      3790\n",
            "weighted avg       0.94      0.94      0.93      3790\n",
            "\n"
          ]
        }
      ]
    },
    {
      "cell_type": "code",
      "source": [
        "# Predict using Ridge Classifier\n",
        "y_pred_ridge = models[\"RidgeClassifier\"].predict(X_test)\n",
        "\n",
        "# Generate Confusion Matrix for Ridge Classifier\n",
        "cm_ridge = confusion_matrix(y_test, y_pred_ridge)\n",
        "\n",
        "# Plot Confusion Matrix\n",
        "plt.figure(figsize=(5, 4))\n",
        "sns.heatmap(cm_ridge, annot=True, fmt='d', cmap=\"Blues\", xticklabels=[\"Ham\", \"Spam\"], yticklabels=[\"Ham\", \"Spam\"])\n",
        "plt.xlabel(\"Predicted Label\")\n",
        "plt.ylabel(\"Actual Label\")\n",
        "plt.title(\"Confusion Matrix - Ridge Classifier\")\n",
        "plt.show()\n",
        "\n"
      ],
      "metadata": {
        "id": "RAxAMsHaqixI",
        "colab": {
          "base_uri": "https://localhost:8080/",
          "height": 410
        },
        "outputId": "2b794686-5b87-40d4-c645-a37fcea08d17"
      },
      "execution_count": null,
      "outputs": [
        {
          "output_type": "display_data",
          "data": {
            "text/plain": [
              "<Figure size 500x400 with 2 Axes>"
            ],
            "image/png": "[encoded data removed]"
          },
          "metadata": {}
        }
      ]
    },
    {
      "cell_type": "code",
      "source": [
        "# Evaluate SGD Classifier\n",
        "y_pred_sgd = models[\"SGDClassifier\"].predict(X_test)\n",
        "report_sgd = classification_report(y_test, y_pred_sgd, target_names=[\"Ham\", \"Spam\"])\n",
        "print(f\"📊 SGDClassifier Classification Report:\\n\", report_sgd)\n"
      ],
      "metadata": {
        "id": "H5Ytkxadh6LP",
        "colab": {
          "base_uri": "https://localhost:8080/"
        },
        "outputId": "46dd7295-e87f-4151-b703-d553deedfd89"
      },
      "execution_count": null,
      "outputs": [
        {
          "output_type": "stream",
          "name": "stdout",
          "text": [
            "📊 SGDClassifier Classification Report:\n",
            "               precision    recall  f1-score   support\n",
            "\n",
            "         Ham       0.93      0.97      0.95      2311\n",
            "        Spam       0.95      0.89      0.92      1479\n",
            "\n",
            "    accuracy                           0.94      3790\n",
            "   macro avg       0.94      0.93      0.93      3790\n",
            "weighted avg       0.94      0.94      0.94      3790\n",
            "\n"
          ]
        }
      ]
    },
    {
      "cell_type": "code",
      "source": [
        "# Generate Confusion Matrix for SGD Classifier\n",
        "cm_sgd = confusion_matrix(y_test, y_pred_sgd)\n",
        "\n",
        "# Plot Confusion Matrix\n",
        "plt.figure(figsize=(5, 4))\n",
        "sns.heatmap(cm_sgd, annot=True, fmt='d', cmap=\"Blues\", xticklabels=[\"Ham\", \"Spam\"], yticklabels=[\"Ham\", \"Spam\"])\n",
        "plt.xlabel(\"Predicted Label\")\n",
        "plt.ylabel(\"Actual Label\")\n",
        "plt.title(\"Confusion Matrix - SGD Classifier\")\n",
        "plt.show()\n"
      ],
      "metadata": {
        "id": "RMgHiugDp9H9",
        "colab": {
          "base_uri": "https://localhost:8080/",
          "height": 410
        },
        "outputId": "a8310708-04ed-4aca-e9a1-0d8076cd5f5b"
      },
      "execution_count": null,
      "outputs": [
        {
          "output_type": "display_data",
          "data": {
            "text/plain": [
              "<Figure size 500x400 with 2 Axes>"
            ],
            "image/png": "[encoded data removed]"
          },
          "metadata": {}
        }
      ]
    },
    {
      "cell_type": "code",
      "source": [
        "# Evaluate Random Forest\n",
        "y_pred_rf = models[\"RandomForest\"].predict(X_test)\n",
        "report_rf = classification_report(y_test, y_pred_rf, target_names=[\"Ham\", \"Spam\"])\n",
        "print(f\"📊 RandomForest Classification Report:\\n\", report_rf)\n"
      ],
      "metadata": {
        "id": "W7oUhfjTh9_k",
        "colab": {
          "base_uri": "https://localhost:8080/"
        },
        "outputId": "0f67379c-8911-4c84-fd60-6dd433f70024"
      },
      "execution_count": null,
      "outputs": [
        {
          "output_type": "stream",
          "name": "stdout",
          "text": [
            "📊 RandomForest Classification Report:\n",
            "               precision    recall  f1-score   support\n",
            "\n",
            "         Ham       0.95      0.97      0.96      2311\n",
            "        Spam       0.96      0.92      0.94      1479\n",
            "\n",
            "    accuracy                           0.95      3790\n",
            "   macro avg       0.95      0.95      0.95      3790\n",
            "weighted avg       0.95      0.95      0.95      3790\n",
            "\n"
          ]
        }
      ]
    },
    {
      "cell_type": "code",
      "source": [
        "# Generate Confusion Matrix for Random Forest\n",
        "cm_rf = confusion_matrix(y_test, y_pred_rf)\n",
        "\n",
        "# Plot Confusion Matrix\n",
        "plt.figure(figsize=(5, 4))\n",
        "sns.heatmap(cm_rf, annot=True, fmt='d', cmap=\"Blues\", xticklabels=[\"Ham\", \"Spam\"], yticklabels=[\"Ham\", \"Spam\"])\n",
        "plt.xlabel(\"Predicted Label\")\n",
        "plt.ylabel(\"Actual Label\")\n",
        "plt.title(\"Confusion Matrix - Random Forest\")\n",
        "plt.show()\n"
      ],
      "metadata": {
        "id": "-oQvg-POpvA5",
        "colab": {
          "base_uri": "https://localhost:8080/",
          "height": 410
        },
        "outputId": "ea64a282-3036-4b68-f81a-aaebcb60b1da"
      },
      "execution_count": null,
      "outputs": [
        {
          "output_type": "display_data",
          "data": {
            "text/plain": [
              "<Figure size 500x400 with 2 Axes>"
            ],
            "image/png": "[encoded data removed]"
          },
          "metadata": {}
        }
      ]
    },
    {
      "cell_type": "code",
      "source": [
        "# Evaluate Linear SVC\n",
        "y_pred_svc = models[\"LinearSVC\"].predict(X_test)\n",
        "report_svc = classification_report(y_test, y_pred_svc, target_names=[\"Ham\", \"Spam\"])\n",
        "print(f\"📊 LinearSVC Classification Report:\\n\", report_svc)\n"
      ],
      "metadata": {
        "id": "XxIGn4IOiCsM",
        "colab": {
          "base_uri": "https://localhost:8080/"
        },
        "outputId": "ee3593f8-7ff1-42cf-a3bd-144e5e0e4db4"
      },
      "execution_count": null,
      "outputs": [
        {
          "output_type": "stream",
          "name": "stdout",
          "text": [
            "📊 LinearSVC Classification Report:\n",
            "               precision    recall  f1-score   support\n",
            "\n",
            "         Ham       0.94      0.96      0.95      2311\n",
            "        Spam       0.94      0.91      0.92      1479\n",
            "\n",
            "    accuracy                           0.94      3790\n",
            "   macro avg       0.94      0.94      0.94      3790\n",
            "weighted avg       0.94      0.94      0.94      3790\n",
            "\n"
          ]
        }
      ]
    },
    {
      "cell_type": "code",
      "source": [
        "import seaborn as sns\n",
        "from sklearn.metrics import confusion_matrix\n",
        "\n",
        "# Generate Confusion Matrix\n",
        "cm_svc = confusion_matrix(y_test, y_pred_svc)\n",
        "\n",
        "# Plot Confusion Matrix\n",
        "plt.figure(figsize=(5, 4))\n",
        "sns.heatmap(cm_svc, annot=True, fmt='d', cmap=\"Blues\", xticklabels=[\"Ham\", \"Spam\"], yticklabels=[\"Ham\", \"Spam\"])\n",
        "plt.xlabel(\"Predicted Label\")\n",
        "plt.ylabel(\"Actual Label\")\n",
        "plt.title(\"Confusion Matrix - LinearSVC\")\n",
        "plt.show()\n"
      ],
      "metadata": {
        "id": "jz7kFze1o4Lp",
        "colab": {
          "base_uri": "https://localhost:8080/",
          "height": 410
        },
        "outputId": "bc0e2775-460c-48de-d65f-6aba644d9f1a"
      },
      "execution_count": null,
      "outputs": [
        {
          "output_type": "display_data",
          "data": {
            "text/plain": [
              "<Figure size 500x400 with 2 Axes>"
            ],
            "image/png": "[encoded data removed]"
          },
          "metadata": {}
        }
      ]
    },
    {
      "cell_type": "code",
      "source": [
        "# Evaluate Stacking Classifier\n",
        "y_pred_stack = stacking_clf.predict(X_test)\n",
        "report_stack = classification_report(y_test, y_pred_stack, target_names=[\"Ham\", \"Spam\"])\n",
        "print(f\"🚀 Stacking Classifier Classification Report:\\n\", report_stack)\n"
      ],
      "metadata": {
        "id": "sfmKg92hiHQS",
        "colab": {
          "base_uri": "https://localhost:8080/"
        },
        "outputId": "c8c7bf57-31c3-4c12-ad7c-d10a9ddd1c38"
      },
      "execution_count": null,
      "outputs": [
        {
          "output_type": "stream",
          "name": "stdout",
          "text": [
            "🚀 Stacking Classifier Classification Report:\n",
            "               precision    recall  f1-score   support\n",
            "\n",
            "         Ham       0.95      0.98      0.96      2311\n",
            "        Spam       0.96      0.91      0.94      1479\n",
            "\n",
            "    accuracy                           0.95      3790\n",
            "   macro avg       0.95      0.94      0.95      3790\n",
            "weighted avg       0.95      0.95      0.95      3790\n",
            "\n"
          ]
        }
      ]
    },
    {
      "cell_type": "code",
      "source": [
        "# Generate Confusion Matrix for Stacking Classifier\n",
        "cm_stack = confusion_matrix(y_test, y_pred_stack)\n",
        "\n",
        "# Plot Confusion Matrix\n",
        "plt.figure(figsize=(5, 4))\n",
        "sns.heatmap(cm_stack, annot=True, fmt='d', cmap=\"Blues\", xticklabels=[\"Ham\", \"Spam\"], yticklabels=[\"Ham\", \"Spam\"])\n",
        "plt.xlabel(\"Predicted Label\")\n",
        "plt.ylabel(\"Actual Label\")\n",
        "plt.title(\"Confusion Matrix - Stacking Classifier\")\n",
        "plt.show()\n"
      ],
      "metadata": {
        "id": "auI3U10ipMGv",
        "colab": {
          "base_uri": "https://localhost:8080/",
          "height": 410
        },
        "outputId": "aef5a862-bb93-4da8-dd90-3661c02cd7da"
      },
      "execution_count": null,
      "outputs": [
        {
          "output_type": "display_data",
          "data": {
            "text/plain": [
              "<Figure size 500x400 with 2 Axes>"
            ],
            "image/png": "[encoded data removed]"
          },
          "metadata": {}
        }
      ]
    },
    {
      "cell_type": "code",
      "source": [
        "import matplotlib.pyplot as plt\n",
        "\n",
        "# Plot model comparison\n",
        "plt.figure(figsize=(10,5))\n",
        "bars = plt.bar(model_scores.keys(), model_scores.values(), color=[\"blue\", \"green\", \"red\", \"orange\", \"purple\", \"cyan\"])\n",
        "\n",
        "# Add accuracy score labels on top of bars\n",
        "for bar in bars:\n",
        "    yval = bar.get_height()\n",
        "    plt.text(bar.get_x() + bar.get_width()/2, yval, f\"{yval:.4f}\", ha='center', va='bottom', fontsize=12, fontweight='bold')\n",
        "\n",
        "# Customize plot\n",
        "plt.title(\"Model Accuracy Comparison (Spam vs Ham)\", fontsize=14, fontweight='bold')\n",
        "plt.ylabel(\"Accuracy\", fontsize=12)\n",
        "plt.xlabel(\"Model\", fontsize=12)\n",
        "plt.ylim(0, 1)\n",
        "plt.grid(axis='y', linestyle='--', alpha=0.7)\n",
        "\n",
        "# Show plot\n",
        "plt.show()\n"
      ],
      "metadata": {
        "id": "HQ9mSfPTf8Iq",
        "colab": {
          "base_uri": "https://localhost:8080/",
          "height": 492
        },
        "outputId": "98b42556-369b-4927-fcb8-38c03568a925"
      },
      "execution_count": null,
      "outputs": [
        {
          "output_type": "display_data",
          "data": {
            "text/plain": [
              "<Figure size 1000x500 with 1 Axes>"
            ],
            "image/png": "[encoded data removed]"
          },
          "metadata": {}
        }
      ]
    },
    {
      "cell_type": "code",
      "source": [
        "import re\n",
        "from bs4 import BeautifulSoup\n",
        "\n",
        "# Function to clean obfuscation from email text\n",
        "def clean_text(text):\n",
        "    # Remove special characters\n",
        "    text = re.sub(r\"[^a-zA-Z\\s]\", \"\", text)\n",
        "\n",
        "    # Remove numbers inside words (e.g., \"Fr33\" → \"Free\")\n",
        "    text = re.sub(r\"\\b\\w*\\d\\w*\\b\", \"\", text)\n",
        "\n",
        "    # Remove white font hidden text\n",
        "    soup = BeautifulSoup(text, \"html.parser\")\n",
        "    for tag in soup.find_all(style=re.compile(\"color:\\s*white\", re.IGNORECASE)):\n",
        "        tag.decompose()\n",
        "\n",
        "    return soup.get_text()\n",
        "\n",
        "# Function to classify a custom email and check if it's from Enron, while detecting obfuscation\n",
        "def classify_custom_email(email_text, sender_email):\n",
        "    # Detect if email contains obfuscation\n",
        "    obfuscation_detected = detect_obfuscation(email_text)\n",
        "\n",
        "    # Clean obfuscation from text\n",
        "    cleaned_email_text = clean_text(email_text)\n",
        "\n",
        "    # Convert input text into numerical features using the same TF-IDF vectorizer\n",
        "    email_features = vectorizer.transform([cleaned_email_text])\n",
        "\n",
        "    # Get predictions from all models in stacking\n",
        "    model_predictions = {name: model.predict(email_features)[0] for name, model in models.items()}\n",
        "    predicted_label = label_encoder.inverse_transform([stacking_clf.predict(email_features)[0]])[0]\n",
        "\n",
        "    # Get model influence scores (how much each model contributes)\n",
        "    stacking_weights = stacking_clf.final_estimator_.coef_ if hasattr(stacking_clf.final_estimator_, \"coef_\") else None\n",
        "\n",
        "    # Check if sender is from Enron\n",
        "    enron_status = \"✅ Email is from an Enron employee.\" if sender_email.endswith(\"@enron.com\") \\\n",
        "                   else \"⚠️ ALERT: This email is NOT from an Enron employee.\"\n",
        "\n",
        "    # Display results\n",
        "    print(\"\\n📩 **Custom Email Classification**\")\n",
        "    print(f\"🔹 **Sender:** {sender_email}\")\n",
        "    print(f\"🔹 **Input Text (Cleaned):** {cleaned_email_text[:500]}...\")  # Show first 500 characters\n",
        "    print(f\"🔹 **Predicted Label:** {predicted_label}\")\n",
        "    print(f\"🔹 {enron_status}\")\n",
        "    print(f\"🔹 **Obfuscation Detected:** {'✅ Yes' if obfuscation_detected else '❌ No'}\")\n",
        "\n",
        "    # Show model contributions if available\n",
        "    if stacking_weights is not None:\n",
        "        print(\"\\n📊 **Model Contributions in Stacking Classifier:**\")\n",
        "        for i, (model_name, weight) in enumerate(zip(models.keys(), stacking_weights[0])):\n",
        "            print(f\"🔹 {model_name}: {weight:.4f}\")\n",
        "\n"
      ],
      "metadata": {
        "id": "WtfJ_VA12uw_"
      },
      "execution_count": null,
      "outputs": []
    },
    {
      "cell_type": "code",
      "source": [
        "# New Sample emails for testing with diverse content\n",
        "sample_emails = [\n",
        "\n",
        "    {\n",
        "        \"sender\": \"alice.smith@enron.com\",\n",
        "        \"text\": \"Reminder: The quarterly business strategy meeting is scheduled for Monday at 2 PM. Please review the agenda before attending.\"\n",
        "    },\n",
        "\n",
        "    {\n",
        "        \"sender\": \"finance@quickloan.com\",\n",
        "        \"text\": \"Congratulations! You are pre-approved for a $5000 loan at 0% interest. No credit check required. Apply now!\"\n",
        "    },\n",
        "\n",
        "    {\n",
        "        \"sender\": \"hr@enron.com\",\n",
        "        \"text\": \"Please complete your annual employee benefits enrollment by Friday. Contact HR for assistance if you have any questions.\"\n",
        "    },\n",
        "\n",
        "    {\n",
        "        \"sender\": \"alerts@banksecure.com\",\n",
        "        \"text\": \"⚠ Urgent! Suspicious login detected. Click below to verify your account and avoid suspension.\"\n",
        "    },\n",
        "\n",
        "    {\n",
        "        \"sender\": \"investment@profitnow.com\",\n",
        "        \"text\": \"Exclusive investment opportunity! Earn 300% ROI risk-free. Secure your spot today!\"\n",
        "    },\n",
        "\n",
        "    {\n",
        "        \"sender\": \"david.jones@enron.com\",\n",
        "        \"text\": \"Hey team, great job on the Q3 sales report. Let's aim for even better numbers next quarter!\"\n",
        "    },\n",
        "\n",
        "    {\n",
        "        \"sender\": \"security@paypal.com\",\n",
        "        \"text\": \"We have detected unauthorized access to your PayPal account. Please click the link here to prevent account suspension.\"\n",
        "    },\n",
        "\n",
        "    {\n",
        "        \"sender\": \"john.miller@enron.com\",\n",
        "        \"text\": \"Can someone help me with the financial report for Q3? I need to finalize the numbers before the end of the week.\"\n",
        "    },\n",
        "\n",
        "    {\n",
        "        \"sender\": \"winner@lotteryclaim.com\",\n",
        "        \"text\": \"Congratulations! You have won $1,000,000 in the International Lottery! Click here to claim your prize.\"\n",
        "    },\n",
        "\n",
        "    {\n",
        "        \"sender\": \"conference@enron.com\",\n",
        "        \"text\": \"Reminder: Our annual corporate strategy conference will be held next Thursday. Register now to attend.\"\n",
        "    }\n",
        "]\n",
        "\n",
        "# Test classification on sample emails\n",
        "for email in sample_emails:\n",
        "    classify_custom_email(email[\"text\"], email[\"sender\"])\n",
        "    print(\"\\n\" + \"=\"*60 + \"\\n\")  # Separator for readability\n"
      ],
      "metadata": {
        "id": "FXmKPHeL2xRG",
        "colab": {
          "base_uri": "https://localhost:8080/"
        },
        "outputId": "9a373917-dbb6-4d03-f311-9ece9d7b4858"
      },
      "execution_count": null,
      "outputs": [
        {
          "output_type": "stream",
          "name": "stdout",
          "text": [
            "\n",
            "📩 **Custom Email Classification**\n",
            "🔹 **Sender:** alice.smith@enron.com\n",
            "🔹 **Input Text (Cleaned):** Reminder The quarterly business strategy meeting is scheduled for Monday at  PM Please review the agenda before attending...\n",
            "🔹 **Predicted Label:** Ham\n",
            "🔹 ✅ Email is from an Enron employee.\n",
            "🔹 **Obfuscation Detected:** ✅ Yes\n",
            "\n",
            "============================================================\n",
            "\n",
            "\n",
            "📩 **Custom Email Classification**\n",
            "🔹 **Sender:** finance@quickloan.com\n",
            "🔹 **Input Text (Cleaned):** Congratulations You are preapproved for a  loan at  interest No credit check required Apply now...\n",
            "🔹 **Predicted Label:** Ham\n",
            "🔹 ⚠️ ALERT: This email is NOT from an Enron employee.\n",
            "🔹 **Obfuscation Detected:** ✅ Yes\n",
            "\n",
            "============================================================\n",
            "\n",
            "\n",
            "📩 **Custom Email Classification**\n",
            "🔹 **Sender:** hr@enron.com\n",
            "🔹 **Input Text (Cleaned):** Please complete your annual employee benefits enrollment by Friday Contact HR for assistance if you have any questions...\n",
            "🔹 **Predicted Label:** Ham\n",
            "🔹 ✅ Email is from an Enron employee.\n",
            "🔹 **Obfuscation Detected:** ✅ Yes\n",
            "\n",
            "============================================================\n",
            "\n",
            "\n",
            "📩 **Custom Email Classification**\n",
            "🔹 **Sender:** alerts@banksecure.com\n",
            "🔹 **Input Text (Cleaned):**  Urgent Suspicious login detected Click below to verify your account and avoid suspension...\n",
            "🔹 **Predicted Label:** Spam\n",
            "🔹 ⚠️ ALERT: This email is NOT from an Enron employee.\n",
            "🔹 **Obfuscation Detected:** ✅ Yes\n",
            "\n",
            "============================================================\n",
            "\n",
            "\n",
            "📩 **Custom Email Classification**\n",
            "🔹 **Sender:** investment@profitnow.com\n",
            "🔹 **Input Text (Cleaned):** Exclusive investment opportunity Earn  ROI riskfree Secure your spot today...\n",
            "🔹 **Predicted Label:** Spam\n",
            "🔹 ⚠️ ALERT: This email is NOT from an Enron employee.\n",
            "🔹 **Obfuscation Detected:** ✅ Yes\n",
            "\n",
            "============================================================\n",
            "\n",
            "\n",
            "📩 **Custom Email Classification**\n",
            "🔹 **Sender:** david.jones@enron.com\n",
            "🔹 **Input Text (Cleaned):** Hey team great job on the Q sales report Lets aim for even better numbers next quarter...\n",
            "🔹 **Predicted Label:** Ham\n",
            "🔹 ✅ Email is from an Enron employee.\n",
            "🔹 **Obfuscation Detected:** ✅ Yes\n",
            "\n",
            "============================================================\n",
            "\n",
            "\n",
            "📩 **Custom Email Classification**\n",
            "🔹 **Sender:** security@paypal.com\n",
            "🔹 **Input Text (Cleaned):** We have detected unauthorized access to your PayPal account Please click the link here to prevent account suspension...\n",
            "🔹 **Predicted Label:** Spam\n",
            "🔹 ⚠️ ALERT: This email is NOT from an Enron employee.\n",
            "🔹 **Obfuscation Detected:** ✅ Yes\n",
            "\n",
            "============================================================\n",
            "\n",
            "\n",
            "📩 **Custom Email Classification**\n",
            "🔹 **Sender:** john.miller@enron.com\n",
            "🔹 **Input Text (Cleaned):** Can someone help me with the financial report for Q I need to finalize the numbers before the end of the week...\n",
            "🔹 **Predicted Label:** Ham\n",
            "🔹 ✅ Email is from an Enron employee.\n",
            "🔹 **Obfuscation Detected:** ✅ Yes\n",
            "\n",
            "============================================================\n",
            "\n",
            "\n",
            "📩 **Custom Email Classification**\n",
            "🔹 **Sender:** winner@lotteryclaim.com\n",
            "🔹 **Input Text (Cleaned):** Congratulations You have won  in the International Lottery Click here to claim your prize...\n",
            "🔹 **Predicted Label:** Spam\n",
            "🔹 ⚠️ ALERT: This email is NOT from an Enron employee.\n",
            "🔹 **Obfuscation Detected:** ✅ Yes\n",
            "\n",
            "============================================================\n",
            "\n",
            "\n",
            "📩 **Custom Email Classification**\n",
            "🔹 **Sender:** conference@enron.com\n",
            "🔹 **Input Text (Cleaned):** Reminder Our annual corporate strategy conference will be held next Thursday Register now to attend...\n",
            "🔹 **Predicted Label:** Ham\n",
            "🔹 ✅ Email is from an Enron employee.\n",
            "🔹 **Obfuscation Detected:** ✅ Yes\n",
            "\n",
            "============================================================\n",
            "\n"
          ]
        }
      ]
    },
    {
      "cell_type": "code",
      "source": [
        "pip install --upgrade scikit-learn==1.6.1"
      ],
      "metadata": {
        "id": "eOx6smO1c7jQ",
        "colab": {
          "base_uri": "https://localhost:8080/"
        },
        "outputId": "1367e8e4-a1f2-43d1-b0e0-224a7d7d4bc0"
      },
      "execution_count": null,
      "outputs": [
        {
          "output_type": "stream",
          "name": "stdout",
          "text": [
            "Requirement already satisfied: scikit-learn==1.6.1 in /usr/local/lib/python3.11/dist-packages (1.6.1)\n",
            "Requirement already satisfied: numpy>=1.19.5 in /usr/local/lib/python3.11/dist-packages (from scikit-learn==1.6.1) (1.26.4)\n",
            "Requirement already satisfied: scipy>=1.6.0 in /usr/local/lib/python3.11/dist-packages (from scikit-learn==1.6.1) (1.13.1)\n",
            "Requirement already satisfied: joblib>=1.2.0 in /usr/local/lib/python3.11/dist-packages (from scikit-learn==1.6.1) (1.4.2)\n",
            "Requirement already satisfied: threadpoolctl>=3.1.0 in /usr/local/lib/python3.11/dist-packages (from scikit-learn==1.6.1) (3.5.0)\n"
          ]
        }
      ]
    },
    {
      "cell_type": "code",
      "source": [
        "import joblib\n",
        "import os\n",
        "\n",
        "# 📌 Step 1: Define the Directory to Save Models\n",
        "save_dir = \"saved_models\"\n",
        "os.makedirs(save_dir, exist_ok=True)\n",
        "\n",
        "# 📌 Step 2: Save the Latest TF-IDF Vectorizer\n",
        "vectorizer_path = os.path.join(save_dir, \"tfidf_vectorizer.pkl\")\n",
        "joblib.dump(vectorizer, vectorizer_path)\n",
        "print(f\"✅ TF-IDF Vectorizer updated at: {vectorizer_path}\")\n",
        "\n",
        "# 📌 Step 3: Save the Latest Stacking Classifier Model\n",
        "model_path = os.path.join(save_dir, \"stacking_classifier.pkl\")\n",
        "joblib.dump(stacking_clf, model_path)\n",
        "print(f\"✅ Stacking Classifier Model updated at: {model_path}\")\n",
        "\n",
        "# 📌 Step 4: Save the Latest Label Encoder\n",
        "label_encoder_path = os.path.join(save_dir, \"label_encoder.pkl\")\n",
        "joblib.dump(label_encoder, label_encoder_path)\n",
        "print(f\"✅ Label Encoder updated at: {label_encoder_path}\")\n",
        "\n",
        "# 📌 Step 5: Save the Latest Dataset with Predictions\n",
        "dataset_path = os.path.join(save_dir, \"classified_emails.csv\")\n",
        "df.to_csv(dataset_path, index=False)\n",
        "print(f\"✅ Classified dataset updated at: {dataset_path}\")\n",
        "\n",
        "# 📌 Step 6: Confirm Updated Files\n",
        "print(\"\\n📦 **Updated Files for Website Integration:**\")\n",
        "print(f\"📂 TF-IDF Vectorizer: {vectorizer_path}\")\n",
        "print(f\"📂 Stacking Classifier Model: {model_path}\")\n",
        "print(f\"📂 Label Encoder: {label_encoder_path}\")\n",
        "print(f\"📂 Classified Dataset: {dataset_path}\")\n"
      ],
      "metadata": {
        "id": "yjbrBWnCn2rj",
        "colab": {
          "base_uri": "https://localhost:8080/"
        },
        "outputId": "6df97d9f-473d-447b-a201-7efa024d97f9"
      },
      "execution_count": null,
      "outputs": [
        {
          "output_type": "stream",
          "name": "stdout",
          "text": [
            "✅ TF-IDF Vectorizer updated at: saved_models/tfidf_vectorizer.pkl\n",
            "✅ Stacking Classifier Model updated at: saved_models/stacking_classifier.pkl\n",
            "✅ Label Encoder updated at: saved_models/label_encoder.pkl\n",
            "✅ Classified dataset updated at: saved_models/classified_emails.csv\n",
            "\n",
            "📦 **Updated Files for Website Integration:**\n",
            "📂 TF-IDF Vectorizer: saved_models/tfidf_vectorizer.pkl\n",
            "📂 Stacking Classifier Model: saved_models/stacking_classifier.pkl\n",
            "📂 Label Encoder: saved_models/label_encoder.pkl\n",
            "📂 Classified Dataset: saved_models/classified_emails.csv\n"
          ]
        }
      ]
    }
  ]
}