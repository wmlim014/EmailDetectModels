{
  "nbformat": 4,
  "nbformat_minor": 0,
  "metadata": {
    "colab": {
      "provenance": [],
      "gpuType": "A100"
    },
    "kernelspec": {
      "name": "python3",
      "display_name": "Python 3"
    },
    "language_info": {
      "name": "python"
    },
    "accelerator": "GPU"
  },
  "cells": [
    {
      "cell_type": "code",
      "source": [
        "!pip install pandas matplotlib wordcloud google-generativeai scikit-learn nltk tqdm\n"
      ],
      "metadata": {
        "colab": {
          "base_uri": "https://localhost:8080/",
          "height": 0
        },
        "id": "ZUXPyIBCSfUk",
        "outputId": "b2a0d98f-c263-4061-f0fa-2c68ffce181c"
      },
      "execution_count": 1,
      "outputs": [
        {
          "output_type": "stream",
          "name": "stdout",
          "text": [
            "Requirement already satisfied: pandas in /usr/local/lib/python3.11/dist-packages (2.2.2)\n",
            "Requirement already satisfied: matplotlib in /usr/local/lib/python3.11/dist-packages (3.10.0)\n",
            "Requirement already satisfied: wordcloud in /usr/local/lib/python3.11/dist-packages (1.9.4)\n",
            "Requirement already satisfied: google-generativeai in /usr/local/lib/python3.11/dist-packages (0.8.4)\n",
            "Requirement already satisfied: scikit-learn in /usr/local/lib/python3.11/dist-packages (1.6.1)\n",
            "Requirement already satisfied: nltk in /usr/local/lib/python3.11/dist-packages (3.9.1)\n",
            "Requirement already satisfied: tqdm in /usr/local/lib/python3.11/dist-packages (4.67.1)\n",
            "Requirement already satisfied: numpy>=1.23.2 in /usr/local/lib/python3.11/dist-packages (from pandas) (1.26.4)\n",
            "Requirement already satisfied: python-dateutil>=2.8.2 in /usr/local/lib/python3.11/dist-packages (from pandas) (2.8.2)\n",
            "Requirement already satisfied: pytz>=2020.1 in /usr/local/lib/python3.11/dist-packages (from pandas) (2025.1)\n",
            "Requirement already satisfied: tzdata>=2022.7 in /usr/local/lib/python3.11/dist-packages (from pandas) (2025.1)\n",
            "Requirement already satisfied: contourpy>=1.0.1 in /usr/local/lib/python3.11/dist-packages (from matplotlib) (1.3.1)\n",
            "Requirement already satisfied: cycler>=0.10 in /usr/local/lib/python3.11/dist-packages (from matplotlib) (0.12.1)\n",
            "Requirement already satisfied: fonttools>=4.22.0 in /usr/local/lib/python3.11/dist-packages (from matplotlib) (4.56.0)\n",
            "Requirement already satisfied: kiwisolver>=1.3.1 in /usr/local/lib/python3.11/dist-packages (from matplotlib) (1.4.8)\n",
            "Requirement already satisfied: packaging>=20.0 in /usr/local/lib/python3.11/dist-packages (from matplotlib) (24.2)\n",
            "Requirement already satisfied: pillow>=8 in /usr/local/lib/python3.11/dist-packages (from matplotlib) (11.1.0)\n",
            "Requirement already satisfied: pyparsing>=2.3.1 in /usr/local/lib/python3.11/dist-packages (from matplotlib) (3.2.1)\n",
            "Requirement already satisfied: google-ai-generativelanguage==0.6.15 in /usr/local/lib/python3.11/dist-packages (from google-generativeai) (0.6.15)\n",
            "Requirement already satisfied: google-api-core in /usr/local/lib/python3.11/dist-packages (from google-generativeai) (2.19.2)\n",
            "Requirement already satisfied: google-api-python-client in /usr/local/lib/python3.11/dist-packages (from google-generativeai) (2.160.0)\n",
            "Requirement already satisfied: google-auth>=2.15.0 in /usr/local/lib/python3.11/dist-packages (from google-generativeai) (2.27.0)\n",
            "Requirement already satisfied: protobuf in /usr/local/lib/python3.11/dist-packages (from google-generativeai) (4.25.6)\n",
            "Requirement already satisfied: pydantic in /usr/local/lib/python3.11/dist-packages (from google-generativeai) (2.10.6)\n",
            "Requirement already satisfied: typing-extensions in /usr/local/lib/python3.11/dist-packages (from google-generativeai) (4.12.2)\n",
            "Requirement already satisfied: proto-plus<2.0.0dev,>=1.22.3 in /usr/local/lib/python3.11/dist-packages (from google-ai-generativelanguage==0.6.15->google-generativeai) (1.26.0)\n",
            "Requirement already satisfied: scipy>=1.6.0 in /usr/local/lib/python3.11/dist-packages (from scikit-learn) (1.13.1)\n",
            "Requirement already satisfied: joblib>=1.2.0 in /usr/local/lib/python3.11/dist-packages (from scikit-learn) (1.4.2)\n",
            "Requirement already satisfied: threadpoolctl>=3.1.0 in /usr/local/lib/python3.11/dist-packages (from scikit-learn) (3.5.0)\n",
            "Requirement already satisfied: click in /usr/local/lib/python3.11/dist-packages (from nltk) (8.1.8)\n",
            "Requirement already satisfied: regex>=2021.8.3 in /usr/local/lib/python3.11/dist-packages (from nltk) (2024.11.6)\n",
            "Requirement already satisfied: googleapis-common-protos<2.0.dev0,>=1.56.2 in /usr/local/lib/python3.11/dist-packages (from google-api-core->google-generativeai) (1.67.0)\n",
            "Requirement already satisfied: requests<3.0.0.dev0,>=2.18.0 in /usr/local/lib/python3.11/dist-packages (from google-api-core->google-generativeai) (2.32.3)\n",
            "Requirement already satisfied: cachetools<6.0,>=2.0.0 in /usr/local/lib/python3.11/dist-packages (from google-auth>=2.15.0->google-generativeai) (5.5.1)\n",
            "Requirement already satisfied: pyasn1-modules>=0.2.1 in /usr/local/lib/python3.11/dist-packages (from google-auth>=2.15.0->google-generativeai) (0.4.1)\n",
            "Requirement already satisfied: rsa<5,>=3.1.4 in /usr/local/lib/python3.11/dist-packages (from google-auth>=2.15.0->google-generativeai) (4.9)\n",
            "Requirement already satisfied: six>=1.5 in /usr/local/lib/python3.11/dist-packages (from python-dateutil>=2.8.2->pandas) (1.17.0)\n",
            "Requirement already satisfied: httplib2<1.dev0,>=0.19.0 in /usr/local/lib/python3.11/dist-packages (from google-api-python-client->google-generativeai) (0.22.0)\n",
            "Requirement already satisfied: google-auth-httplib2<1.0.0,>=0.2.0 in /usr/local/lib/python3.11/dist-packages (from google-api-python-client->google-generativeai) (0.2.0)\n",
            "Requirement already satisfied: uritemplate<5,>=3.0.1 in /usr/local/lib/python3.11/dist-packages (from google-api-python-client->google-generativeai) (4.1.1)\n",
            "Requirement already satisfied: annotated-types>=0.6.0 in /usr/local/lib/python3.11/dist-packages (from pydantic->google-generativeai) (0.7.0)\n",
            "Requirement already satisfied: pydantic-core==2.27.2 in /usr/local/lib/python3.11/dist-packages (from pydantic->google-generativeai) (2.27.2)\n",
            "Requirement already satisfied: grpcio<2.0dev,>=1.33.2 in /usr/local/lib/python3.11/dist-packages (from google-api-core[grpc]!=2.0.*,!=2.1.*,!=2.10.*,!=2.2.*,!=2.3.*,!=2.4.*,!=2.5.*,!=2.6.*,!=2.7.*,!=2.8.*,!=2.9.*,<3.0.0dev,>=1.34.1->google-ai-generativelanguage==0.6.15->google-generativeai) (1.70.0)\n",
            "Requirement already satisfied: grpcio-status<2.0.dev0,>=1.33.2 in /usr/local/lib/python3.11/dist-packages (from google-api-core[grpc]!=2.0.*,!=2.1.*,!=2.10.*,!=2.2.*,!=2.3.*,!=2.4.*,!=2.5.*,!=2.6.*,!=2.7.*,!=2.8.*,!=2.9.*,<3.0.0dev,>=1.34.1->google-ai-generativelanguage==0.6.15->google-generativeai) (1.62.3)\n",
            "Requirement already satisfied: pyasn1<0.7.0,>=0.4.6 in /usr/local/lib/python3.11/dist-packages (from pyasn1-modules>=0.2.1->google-auth>=2.15.0->google-generativeai) (0.6.1)\n",
            "Requirement already satisfied: charset-normalizer<4,>=2 in /usr/local/lib/python3.11/dist-packages (from requests<3.0.0.dev0,>=2.18.0->google-api-core->google-generativeai) (3.4.1)\n",
            "Requirement already satisfied: idna<4,>=2.5 in /usr/local/lib/python3.11/dist-packages (from requests<3.0.0.dev0,>=2.18.0->google-api-core->google-generativeai) (3.10)\n",
            "Requirement already satisfied: urllib3<3,>=1.21.1 in /usr/local/lib/python3.11/dist-packages (from requests<3.0.0.dev0,>=2.18.0->google-api-core->google-generativeai) (2.3.0)\n",
            "Requirement already satisfied: certifi>=2017.4.17 in /usr/local/lib/python3.11/dist-packages (from requests<3.0.0.dev0,>=2.18.0->google-api-core->google-generativeai) (2025.1.31)\n"
          ]
        }
      ]
    },
    {
      "cell_type": "code",
      "source": [
        "import os\n",
        "import email\n",
        "import tarfile\n",
        "import numpy as np\n",
        "import pandas as pd\n",
        "import matplotlib.pyplot as plt\n",
        "import google.generativeai as genai\n",
        "from sklearn.ensemble import IsolationForest\n",
        "from wordcloud import WordCloud, STOPWORDS\n",
        "import nltk\n",
        "from tqdm import tqdm\n",
        "nltk.download('punkt')\n",
        "nltk.download('averaged_perceptron_tagger')"
      ],
      "metadata": {
        "colab": {
          "base_uri": "https://localhost:8080/",
          "height": 0
        },
        "id": "fYWh3-BCSm6V",
        "outputId": "6c945eaa-fe6b-4e58-8309-0670c4f7d439"
      },
      "execution_count": 2,
      "outputs": [
        {
          "output_type": "stream",
          "name": "stderr",
          "text": [
            "[nltk_data] Downloading package punkt to /root/nltk_data...\n",
            "[nltk_data]   Unzipping tokenizers/punkt.zip.\n",
            "[nltk_data] Downloading package averaged_perceptron_tagger to\n",
            "[nltk_data]     /root/nltk_data...\n",
            "[nltk_data]   Unzipping taggers/averaged_perceptron_tagger.zip.\n"
          ]
        },
        {
          "output_type": "execute_result",
          "data": {
            "text/plain": [
              "True"
            ]
          },
          "metadata": {},
          "execution_count": 2
        }
      ]
    },
    {
      "cell_type": "code",
      "source": [
        "from google.colab import drive\n",
        "drive.mount('/content/drive')"
      ],
      "metadata": {
        "colab": {
          "base_uri": "https://localhost:8080/",
          "height": 0
        },
        "id": "PdEkYqfTM0VL",
        "outputId": "2b454689-8d5c-45c0-bea5-8c009e1ac192"
      },
      "execution_count": 3,
      "outputs": [
        {
          "output_type": "stream",
          "name": "stdout",
          "text": [
            "Mounted at /content/drive\n"
          ]
        }
      ]
    },
    {
      "cell_type": "code",
      "source": [
        "# Define source and destination paths\n",
        "source_path = \"/content/drive/My Drive/EnronDataset/maildir/maildir_backup.zip\"\n",
        "destination_path = \"/content/maildir_backup.zip\"\n",
        "\n",
        "# Copy file from Google Drive\n",
        "!cp \"{source_path}\" \"{destination_path}\"\n",
        "\n",
        "# Check if the file exists after copying\n",
        "if os.path.exists(destination_path):\n",
        "    print(\" File copied successfully! Ready for extraction.\")\n",
        "else:\n",
        "    print(\" File copy failed. Please check the file path.\")\n"
      ],
      "metadata": {
        "colab": {
          "base_uri": "https://localhost:8080/",
          "height": 0
        },
        "id": "-C04E6NkZtlW",
        "outputId": "a9a29022-ce77-430f-ffdf-7ecf8748e0fe"
      },
      "execution_count": 4,
      "outputs": [
        {
          "output_type": "stream",
          "name": "stdout",
          "text": [
            " File copied successfully! Ready for extraction.\n"
          ]
        }
      ]
    },
    {
      "cell_type": "code",
      "source": [
        "!ls -lh /content/maildir_backup.zip\n"
      ],
      "metadata": {
        "colab": {
          "base_uri": "https://localhost:8080/",
          "height": 0
        },
        "id": "gkYXIQ3LZ9he",
        "outputId": "9d091de6-0b4a-4294-8638-46be6b7be139"
      },
      "execution_count": 5,
      "outputs": [
        {
          "output_type": "stream",
          "name": "stdout",
          "text": [
            "-rw------- 1 root root 684M Feb 20 00:07 /content/maildir_backup.zip\n"
          ]
        }
      ]
    },
    {
      "cell_type": "code",
      "source": [
        "import zipfile\n",
        "\n",
        "# Define paths\n",
        "zip_path = \"/content/maildir_backup.zip\"\n",
        "extract_path = \"/content/maildir\"\n",
        "\n",
        "# Extract ZIP file\n",
        "try:\n",
        "    with zipfile.ZipFile(zip_path, 'r') as zip_ref:\n",
        "        zip_ref.extractall(extract_path)\n",
        "    print(\"✅ Dataset extracted successfully!\")\n",
        "\n",
        "    # Verify extraction by listing top-level directories\n",
        "    extracted_folders = os.listdir(extract_path)\n",
        "    if len(extracted_folders) > 0:\n",
        "        print(f\"📂 Extracted {len(extracted_folders)} folders inside maildir.\")\n",
        "        print(\"Sample folders:\", extracted_folders[:10])  # Show first 10 folders\n",
        "    else:\n",
        "        print(\"⚠️ Extraction completed, but no folders were found!\")\n",
        "\n",
        "except zipfile.BadZipFile:\n",
        "    print(\"❌ Error: Corrupt ZIP file. Please re-upload.\")\n",
        "except FileNotFoundError:\n",
        "    print(\"❌ Error: ZIP file not found. Ensure it's correctly copied from Google Drive.\")\n"
      ],
      "metadata": {
        "colab": {
          "base_uri": "https://localhost:8080/",
          "height": 0
        },
        "id": "gL_rnAt8bBQ2",
        "outputId": "19788c10-dff7-4ff9-8178-f49ce518f73f"
      },
      "execution_count": 6,
      "outputs": [
        {
          "output_type": "stream",
          "name": "stdout",
          "text": [
            "✅ Dataset extracted successfully!\n",
            "📂 Extracted 1 folders inside maildir.\n",
            "Sample folders: ['maildir']\n"
          ]
        }
      ]
    },
    {
      "cell_type": "code",
      "source": [
        "!ls -l /content/maildir | head -20\n"
      ],
      "metadata": {
        "colab": {
          "base_uri": "https://localhost:8080/",
          "height": 0
        },
        "id": "6qHk2YV5bVEN",
        "outputId": "f32dfa94-a4d2-41c5-f406-1735dd4d2852"
      },
      "execution_count": 7,
      "outputs": [
        {
          "output_type": "stream",
          "name": "stdout",
          "text": [
            "total 4\n",
            "drwxr-xr-x 152 root root 4096 Feb 20 00:07 maildir\n"
          ]
        }
      ]
    },
    {
      "cell_type": "code",
      "source": [
        "!find /content/maildir -type f | wc -l\n"
      ],
      "metadata": {
        "colab": {
          "base_uri": "https://localhost:8080/",
          "height": 0
        },
        "id": "CA-ULBzlbdD_",
        "outputId": "0fd9c792-c267-4c1a-c650-151293a3f5a0"
      },
      "execution_count": 8,
      "outputs": [
        {
          "output_type": "stream",
          "name": "stdout",
          "text": [
            "517401\n"
          ]
        }
      ]
    },
    {
      "cell_type": "code",
      "source": [
        "import email\n",
        "import pandas as pd\n",
        "from tqdm import tqdm\n",
        "\n",
        "# Function to load emails into a structured DataFrame\n",
        "def load_enron_emails(dataset_path, max_emails=10000):\n",
        "    emails = []\n",
        "    for root, dirs, files in os.walk(dataset_path):\n",
        "        for file in files:\n",
        "            if file.endswith(\".\"):  # Ensure we're reading only email files\n",
        "                try:\n",
        "                    with open(os.path.join(root, file), \"r\", encoding=\"latin-1\") as f:\n",
        "                        content = f.read()\n",
        "                        e = email.message_from_string(content)\n",
        "                        emails.append({\n",
        "                            \"Message-ID\": e.get(\"Message-ID\"),\n",
        "                            \"Date\": e.get(\"Date\"),\n",
        "                            \"From\": e.get(\"From\"),\n",
        "                            \"To\": e.get(\"To\"),\n",
        "                            \"Subject\": e.get(\"Subject\"),\n",
        "                            \"Body\": e.get_payload()\n",
        "                        })\n",
        "                except Exception:\n",
        "                    pass\n",
        "            if len(emails) >= max_emails:  # Limit dataset for performance\n",
        "                break\n",
        "    return pd.DataFrame(emails)\n",
        "\n",
        "# Load dataset (limiting to 10,000 emails for performance)\n",
        "df = load_enron_emails(\"/content/maildir\", max_emails=10000)\n",
        "\n",
        "# Fix Date Parsing Issue\n",
        "df[\"Date\"] = pd.to_datetime(df[\"Date\"], errors=\"coerce\", utc=True)\n",
        "\n",
        "# Drop rows with missing data\n",
        "df = df.dropna()\n",
        "\n",
        "# Display the cleaned dataset (first 5 rows)\n",
        "df.head()\n"
      ],
      "metadata": {
        "colab": {
          "base_uri": "https://localhost:8080/",
          "height": 486
        },
        "id": "GWddWd-1brpy",
        "outputId": "3e328770-fe01-4024-e57f-c155b0b21a3b"
      },
      "execution_count": 9,
      "outputs": [
        {
          "output_type": "stream",
          "name": "stderr",
          "text": [
            "<ipython-input-9-c9639a3d3b61>:33: UserWarning: Could not infer format, so each element will be parsed individually, falling back to `dateutil`. To ensure parsing is consistent and as-expected, please specify a format.\n",
            "  df[\"Date\"] = pd.to_datetime(df[\"Date\"], errors=\"coerce\", utc=True)\n"
          ]
        },
        {
          "output_type": "execute_result",
          "data": {
            "text/plain": [
              "                                       Message-ID                      Date  \\\n",
              "0    <8628846.1075841459361.JavaMail.evans@thyme> 2001-07-10 18:01:51+00:00   \n",
              "2    <4593540.1075841460714.JavaMail.evans@thyme> 2001-10-16 16:29:03+00:00   \n",
              "10  <27876452.1075841460618.JavaMail.evans@thyme> 2002-02-06 17:42:43+00:00   \n",
              "17  <30585975.1075841460687.JavaMail.evans@thyme> 2001-10-18 22:27:04+00:00   \n",
              "21  <23365740.1075841481399.JavaMail.evans@thyme> 2001-12-04 22:54:11+00:00   \n",
              "\n",
              "                          From  \\\n",
              "0        karim.punja@enron.com   \n",
              "2   sebastien.garcia@enron.com   \n",
              "10       chris.wiebe@enron.com   \n",
              "17        mark.dupuy@enron.com   \n",
              "21   clinton.kripki@gfinet.com   \n",
              "\n",
              "                                                   To  \\\n",
              "0                             cooper.richey@enron.com   \n",
              "2   sebastien.garcia@enron.com, cooper.richey@enro...   \n",
              "10  chris.wiebe@enron.com, richard.mckeel@enron.co...   \n",
              "17      mark.dupuy@enron.com, cooper.richey@enron.com   \n",
              "21                            cooper.richey@enron.com   \n",
              "\n",
              "                               Subject  \\\n",
              "0                   Financial True ups   \n",
              "2      Scraping process Vs Volume Mgmt   \n",
              "10                         IIS Meeting   \n",
              "17  FW: let's go for drinks after work   \n",
              "21                    GFI AB Power Fax   \n",
              "\n",
              "                                                 Body  \n",
              "0   Cooper,\\n\\n\\nHere is the way I think of what d...  \n",
              "2   \\nGround to cover:\\n\\n- Review of scraping pro...  \n",
              "10                                       As per email  \n",
              "17  Cooper,\\n\\nIf you are interested....\\n\\nCraig\\...  \n",
              "21   <<AB Power Fax for 26/11/01>>  <<AB Power Fax...  "
            ],
            "text/html": [
              "\n",
              "  <div id=\"df-51062d48-a6cd-4c2e-8ee1-8cbd09ef427e\" class=\"colab-df-container\">\n",
              "    <div>\n",
              "<style scoped>\n",
              "    .dataframe tbody tr th:only-of-type {\n",
              "        vertical-align: middle;\n",
              "    }\n",
              "\n",
              "    .dataframe tbody tr th {\n",
              "        vertical-align: top;\n",
              "    }\n",
              "\n",
              "    .dataframe thead th {\n",
              "        text-align: right;\n",
              "    }\n",
              "</style>\n",
              "<table border=\"1\" class=\"dataframe\">\n",
              "  <thead>\n",
              "    <tr style=\"text-align: right;\">\n",
              "      <th></th>\n",
              "      <th>Message-ID</th>\n",
              "      <th>Date</th>\n",
              "      <th>From</th>\n",
              "      <th>To</th>\n",
              "      <th>Subject</th>\n",
              "      <th>Body</th>\n",
              "    </tr>\n",
              "  </thead>\n",
              "  <tbody>\n",
              "    <tr>\n",
              "      <th>0</th>\n",
              "      <td>&lt;8628846.1075841459361.JavaMail.evans@thyme&gt;</td>\n",
              "      <td>2001-07-10 18:01:51+00:00</td>\n",
              "      <td>karim.punja@enron.com</td>\n",
              "      <td>cooper.richey@enron.com</td>\n",
              "      <td>Financial True ups</td>\n",
              "      <td>Cooper,\\n\\n\\nHere is the way I think of what d...</td>\n",
              "    </tr>\n",
              "    <tr>\n",
              "      <th>2</th>\n",
              "      <td>&lt;4593540.1075841460714.JavaMail.evans@thyme&gt;</td>\n",
              "      <td>2001-10-16 16:29:03+00:00</td>\n",
              "      <td>sebastien.garcia@enron.com</td>\n",
              "      <td>sebastien.garcia@enron.com, cooper.richey@enro...</td>\n",
              "      <td>Scraping process Vs Volume Mgmt</td>\n",
              "      <td>\\nGround to cover:\\n\\n- Review of scraping pro...</td>\n",
              "    </tr>\n",
              "    <tr>\n",
              "      <th>10</th>\n",
              "      <td>&lt;27876452.1075841460618.JavaMail.evans@thyme&gt;</td>\n",
              "      <td>2002-02-06 17:42:43+00:00</td>\n",
              "      <td>chris.wiebe@enron.com</td>\n",
              "      <td>chris.wiebe@enron.com, richard.mckeel@enron.co...</td>\n",
              "      <td>IIS Meeting</td>\n",
              "      <td>As per email</td>\n",
              "    </tr>\n",
              "    <tr>\n",
              "      <th>17</th>\n",
              "      <td>&lt;30585975.1075841460687.JavaMail.evans@thyme&gt;</td>\n",
              "      <td>2001-10-18 22:27:04+00:00</td>\n",
              "      <td>mark.dupuy@enron.com</td>\n",
              "      <td>mark.dupuy@enron.com, cooper.richey@enron.com</td>\n",
              "      <td>FW: let's go for drinks after work</td>\n",
              "      <td>Cooper,\\n\\nIf you are interested....\\n\\nCraig\\...</td>\n",
              "    </tr>\n",
              "    <tr>\n",
              "      <th>21</th>\n",
              "      <td>&lt;23365740.1075841481399.JavaMail.evans@thyme&gt;</td>\n",
              "      <td>2001-12-04 22:54:11+00:00</td>\n",
              "      <td>clinton.kripki@gfinet.com</td>\n",
              "      <td>cooper.richey@enron.com</td>\n",
              "      <td>GFI AB Power Fax</td>\n",
              "      <td>&lt;&lt;AB Power Fax for 26/11/01&gt;&gt;  &lt;&lt;AB Power Fax...</td>\n",
              "    </tr>\n",
              "  </tbody>\n",
              "</table>\n",
              "</div>\n",
              "    <div class=\"colab-df-buttons\">\n",
              "\n",
              "  <div class=\"colab-df-container\">\n",
              "    <button class=\"colab-df-convert\" onclick=\"convertToInteractive('df-51062d48-a6cd-4c2e-8ee1-8cbd09ef427e')\"\n",
              "            title=\"Convert this dataframe to an interactive table.\"\n",
              "            style=\"display:none;\">\n",
              "\n",
              "  <svg xmlns=\"http://www.w3.org/2000/svg\" height=\"24px\" viewBox=\"0 -960 960 960\">\n",
              "    <path d=\"M120-120v-720h720v720H120Zm60-500h600v-160H180v160Zm220 220h160v-160H400v160Zm0 220h160v-160H400v160ZM180-400h160v-160H180v160Zm440 0h160v-160H620v160ZM180-180h160v-160H180v160Zm440 0h160v-160H620v160Z\"/>\n",
              "  </svg>\n",
              "    </button>\n",
              "\n",
              "  <style>\n",
              "    .colab-df-container {\n",
              "      display:flex;\n",
              "      gap: 12px;\n",
              "    }\n",
              "\n",
              "    .colab-df-convert {\n",
              "      background-color: #E8F0FE;\n",
              "      border: none;\n",
              "      border-radius: 50%;\n",
              "      cursor: pointer;\n",
              "      display: none;\n",
              "      fill: #1967D2;\n",
              "      height: 32px;\n",
              "      padding: 0 0 0 0;\n",
              "      width: 32px;\n",
              "    }\n",
              "\n",
              "    .colab-df-convert:hover {\n",
              "      background-color: #E2EBFA;\n",
              "      box-shadow: 0px 1px 2px rgba(60, 64, 67, 0.3), 0px 1px 3px 1px rgba(60, 64, 67, 0.15);\n",
              "      fill: #174EA6;\n",
              "    }\n",
              "\n",
              "    .colab-df-buttons div {\n",
              "      margin-bottom: 4px;\n",
              "    }\n",
              "\n",
              "    [theme=dark] .colab-df-convert {\n",
              "      background-color: #3B4455;\n",
              "      fill: #D2E3FC;\n",
              "    }\n",
              "\n",
              "    [theme=dark] .colab-df-convert:hover {\n",
              "      background-color: #434B5C;\n",
              "      box-shadow: 0px 1px 3px 1px rgba(0, 0, 0, 0.15);\n",
              "      filter: drop-shadow(0px 1px 2px rgba(0, 0, 0, 0.3));\n",
              "      fill: #FFFFFF;\n",
              "    }\n",
              "  </style>\n",
              "\n",
              "    <script>\n",
              "      const buttonEl =\n",
              "        document.querySelector('#df-51062d48-a6cd-4c2e-8ee1-8cbd09ef427e button.colab-df-convert');\n",
              "      buttonEl.style.display =\n",
              "        google.colab.kernel.accessAllowed ? 'block' : 'none';\n",
              "\n",
              "      async function convertToInteractive(key) {\n",
              "        const element = document.querySelector('#df-51062d48-a6cd-4c2e-8ee1-8cbd09ef427e');\n",
              "        const dataTable =\n",
              "          await google.colab.kernel.invokeFunction('convertToInteractive',\n",
              "                                                    [key], {});\n",
              "        if (!dataTable) return;\n",
              "\n",
              "        const docLinkHtml = 'Like what you see? Visit the ' +\n",
              "          '<a target=\"_blank\" href=https://colab.research.google.com/notebooks/data_table.ipynb>data table notebook</a>'\n",
              "          + ' to learn more about interactive tables.';\n",
              "        element.innerHTML = '';\n",
              "        dataTable['output_type'] = 'display_data';\n",
              "        await google.colab.output.renderOutput(dataTable, element);\n",
              "        const docLink = document.createElement('div');\n",
              "        docLink.innerHTML = docLinkHtml;\n",
              "        element.appendChild(docLink);\n",
              "      }\n",
              "    </script>\n",
              "  </div>\n",
              "\n",
              "\n",
              "<div id=\"df-b66c9840-506b-4986-b380-db31e86b5d80\">\n",
              "  <button class=\"colab-df-quickchart\" onclick=\"quickchart('df-b66c9840-506b-4986-b380-db31e86b5d80')\"\n",
              "            title=\"Suggest charts\"\n",
              "            style=\"display:none;\">\n",
              "\n",
              "<svg xmlns=\"http://www.w3.org/2000/svg\" height=\"24px\"viewBox=\"0 0 24 24\"\n",
              "     width=\"24px\">\n",
              "    <g>\n",
              "        <path d=\"M19 3H5c-1.1 0-2 .9-2 2v14c0 1.1.9 2 2 2h14c1.1 0 2-.9 2-2V5c0-1.1-.9-2-2-2zM9 17H7v-7h2v7zm4 0h-2V7h2v10zm4 0h-2v-4h2v4z\"/>\n",
              "    </g>\n",
              "</svg>\n",
              "  </button>\n",
              "\n",
              "<style>\n",
              "  .colab-df-quickchart {\n",
              "      --bg-color: #E8F0FE;\n",
              "      --fill-color: #1967D2;\n",
              "      --hover-bg-color: #E2EBFA;\n",
              "      --hover-fill-color: #174EA6;\n",
              "      --disabled-fill-color: #AAA;\n",
              "      --disabled-bg-color: #DDD;\n",
              "  }\n",
              "\n",
              "  [theme=dark] .colab-df-quickchart {\n",
              "      --bg-color: #3B4455;\n",
              "      --fill-color: #D2E3FC;\n",
              "      --hover-bg-color: #434B5C;\n",
              "      --hover-fill-color: #FFFFFF;\n",
              "      --disabled-bg-color: #3B4455;\n",
              "      --disabled-fill-color: #666;\n",
              "  }\n",
              "\n",
              "  .colab-df-quickchart {\n",
              "    background-color: var(--bg-color);\n",
              "    border: none;\n",
              "    border-radius: 50%;\n",
              "    cursor: pointer;\n",
              "    display: none;\n",
              "    fill: var(--fill-color);\n",
              "    height: 32px;\n",
              "    padding: 0;\n",
              "    width: 32px;\n",
              "  }\n",
              "\n",
              "  .colab-df-quickchart:hover {\n",
              "    background-color: var(--hover-bg-color);\n",
              "    box-shadow: 0 1px 2px rgba(60, 64, 67, 0.3), 0 1px 3px 1px rgba(60, 64, 67, 0.15);\n",
              "    fill: var(--button-hover-fill-color);\n",
              "  }\n",
              "\n",
              "  .colab-df-quickchart-complete:disabled,\n",
              "  .colab-df-quickchart-complete:disabled:hover {\n",
              "    background-color: var(--disabled-bg-color);\n",
              "    fill: var(--disabled-fill-color);\n",
              "    box-shadow: none;\n",
              "  }\n",
              "\n",
              "  .colab-df-spinner {\n",
              "    border: 2px solid var(--fill-color);\n",
              "    border-color: transparent;\n",
              "    border-bottom-color: var(--fill-color);\n",
              "    animation:\n",
              "      spin 1s steps(1) infinite;\n",
              "  }\n",
              "\n",
              "  @keyframes spin {\n",
              "    0% {\n",
              "      border-color: transparent;\n",
              "      border-bottom-color: var(--fill-color);\n",
              "      border-left-color: var(--fill-color);\n",
              "    }\n",
              "    20% {\n",
              "      border-color: transparent;\n",
              "      border-left-color: var(--fill-color);\n",
              "      border-top-color: var(--fill-color);\n",
              "    }\n",
              "    30% {\n",
              "      border-color: transparent;\n",
              "      border-left-color: var(--fill-color);\n",
              "      border-top-color: var(--fill-color);\n",
              "      border-right-color: var(--fill-color);\n",
              "    }\n",
              "    40% {\n",
              "      border-color: transparent;\n",
              "      border-right-color: var(--fill-color);\n",
              "      border-top-color: var(--fill-color);\n",
              "    }\n",
              "    60% {\n",
              "      border-color: transparent;\n",
              "      border-right-color: var(--fill-color);\n",
              "    }\n",
              "    80% {\n",
              "      border-color: transparent;\n",
              "      border-right-color: var(--fill-color);\n",
              "      border-bottom-color: var(--fill-color);\n",
              "    }\n",
              "    90% {\n",
              "      border-color: transparent;\n",
              "      border-bottom-color: var(--fill-color);\n",
              "    }\n",
              "  }\n",
              "</style>\n",
              "\n",
              "  <script>\n",
              "    async function quickchart(key) {\n",
              "      const quickchartButtonEl =\n",
              "        document.querySelector('#' + key + ' button');\n",
              "      quickchartButtonEl.disabled = true;  // To prevent multiple clicks.\n",
              "      quickchartButtonEl.classList.add('colab-df-spinner');\n",
              "      try {\n",
              "        const charts = await google.colab.kernel.invokeFunction(\n",
              "            'suggestCharts', [key], {});\n",
              "      } catch (error) {\n",
              "        console.error('Error during call to suggestCharts:', error);\n",
              "      }\n",
              "      quickchartButtonEl.classList.remove('colab-df-spinner');\n",
              "      quickchartButtonEl.classList.add('colab-df-quickchart-complete');\n",
              "    }\n",
              "    (() => {\n",
              "      let quickchartButtonEl =\n",
              "        document.querySelector('#df-b66c9840-506b-4986-b380-db31e86b5d80 button');\n",
              "      quickchartButtonEl.style.display =\n",
              "        google.colab.kernel.accessAllowed ? 'block' : 'none';\n",
              "    })();\n",
              "  </script>\n",
              "</div>\n",
              "\n",
              "    </div>\n",
              "  </div>\n"
            ],
            "application/vnd.google.colaboratory.intrinsic+json": {
              "type": "dataframe",
              "variable_name": "df",
              "summary": "{\n  \"name\": \"df\",\n  \"rows\": 12794,\n  \"fields\": [\n    {\n      \"column\": \"Message-ID\",\n      \"properties\": {\n        \"dtype\": \"string\",\n        \"num_unique_values\": 12794,\n        \"samples\": [\n          \"<350426.1075844486230.JavaMail.evans@thyme>\",\n          \"<2061730.1075844490881.JavaMail.evans@thyme>\",\n          \"<19722316.1075844476903.JavaMail.evans@thyme>\"\n        ],\n        \"semantic_type\": \"\",\n        \"description\": \"\"\n      }\n    },\n    {\n      \"column\": \"Date\",\n      \"properties\": {\n        \"dtype\": \"date\",\n        \"min\": \"1980-01-01 00:00:00+00:00\",\n        \"max\": \"2004-02-04 02:14:47+00:00\",\n        \"num_unique_values\": 12394,\n        \"samples\": [\n          \"2000-03-22 15:31:00+00:00\",\n          \"2002-06-10 11:21:00+00:00\",\n          \"2000-04-24 09:23:00+00:00\"\n        ],\n        \"semantic_type\": \"\",\n        \"description\": \"\"\n      }\n    },\n    {\n      \"column\": \"From\",\n      \"properties\": {\n        \"dtype\": \"category\",\n        \"num_unique_values\": 2365,\n        \"samples\": [\n          \"trey.hardy@enron.com\",\n          \"duong.luu@enron.com\",\n          \"lbarton@hesinet.com\"\n        ],\n        \"semantic_type\": \"\",\n        \"description\": \"\"\n      }\n    },\n    {\n      \"column\": \"To\",\n      \"properties\": {\n        \"dtype\": \"category\",\n        \"num_unique_values\": 4261,\n        \"samples\": [\n          \"jeff.donahue@enron.com, mitch.taylor@enron.com, travis.mccullough@enron.com, \\n\\tjames.ginty@enron.com, rod.hayslett@enron.com\",\n          \"kim.ward@enron.com\",\n          \"greg.whalley@enron.com, gary.hickerson@enron.com\"\n        ],\n        \"semantic_type\": \"\",\n        \"description\": \"\"\n      }\n    },\n    {\n      \"column\": \"Subject\",\n      \"properties\": {\n        \"dtype\": \"string\",\n        \"num_unique_values\": 9483,\n        \"samples\": [\n          \"Thank you for choosing Road Runner\",\n          \"Carr Futures Ltd.\",\n          \"Email\"\n        ],\n        \"semantic_type\": \"\",\n        \"description\": \"\"\n      }\n    },\n    {\n      \"column\": \"Body\",\n      \"properties\": {\n        \"dtype\": \"string\",\n        \"num_unique_values\": 12589,\n        \"samples\": [\n          \"The Pub code has been changed to IF-ELPO/SJ.  Sorry for the mix-up.\\n\\n\\n   \\n\\t\\n\\t\\n\\tFrom:  Larry Joe Hunter                           04/03/2000 03:16 PM\\n\\t\\n\\nTo: Susan M Scott/HOU/ECT@ECT\\ncc:  \\nSubject: Need trade capture change on ND1381\\n\\nSusan,\\n\\nCan you change the Pub code on deal ND1381 to IF-ELPO/SJ.  It is currently \\nIF-ELPO/SANJUAN, which we don't currently use.  If the deal needs to stay \\nbooked as it is currently, let me know and We'll set up the language for this \\nIndex.\\n\\nThanks,\\nJoe\\n\\n\\n\\n\",\n          \"Please assign.  Any questions, ask me.  Thanks.  Sara\\n---------------------- Forwarded by Sara Shackleton/HOU/ECT on 11/15/99 09:02 \\nAM ---------------------------\\n\\n\\nTanya Rohauer\\n11/15/99 08:39 AM\\nTo: Sara Shackleton/HOU/ECT@ECT\\ncc: Jarrod Cyprow/HOU/ECT@ECT \\nSubject: SITA\\n\\nSara,\\n\\nMichael Moulton did a two year trade with SITA that we need to document under \\na Deemed ISDA.  It is possible that they will end up wanting to use a \\ndifferent entity and provide a guaranty.  Please prepare the Deemed ISDA with \\nthe same credit terms as the original ISDA draft.  Let me know if you have \\nquestions.\\n\\nThanks,\\nTanya\\n\",\n          \"Sara,\\n\\nThe financial trader in Sydney should not be entering into master agreements \\nfor the trades he's doing for ENA-Houston.  The master agreement should be \\nexecuted by ENA in Houston.  If that's not possible, our outside Australian \\ntax advisor suggested having an independent agent (such as a lawyer) having a \\npower of attorney from ENA and executing the trade (rather than Enron \\nAustralia).\\n\\nThis means that if ENA has already entered into a master agreement with the \\nsame counterparty, it would need to enter into a new master agreement with \\nthat counterparty.  Consequently, with respect to ENA negotiating an \\nagreement with the Commonwealth Bank of Australia, Enron Australia will not \\nneed to execute a separate master for the trades that it is doing on behalf \\nof ENA.  In this instance, ENA is considered the principal and Enron \\nAustralia is just performing services pursuant to the services agreement it \\nhas with ENA.\\n\\nPlease feel free to give me a call if you would like to discuss this further.\\n\\nBest regards,\\nSusan\\n\\n\\n\\n\\n\\n\\nSara Shackleton@ECT\\n05/02/2000 06:48 PM\\nTo: Susan Musch/ENRON_DEVELOPMENT@ENRON_DEVELOPMENT\\ncc: David Minns/ENRON_DEVELOPMENT@ENRON_DEVELOPMENT \\n\\nSubject: Financial Trading - Enron affiliates\\n\\nSusan:  I wanted to clarify  whether Enron Australia Pty. Ltd. needs to \\nexecute ISDA Master Agreements with the SAME counterparties which already \\nhave agreements with ENA (and vice versa).  As an example, I can only rely \\nupon tax advice ENA has previously received in connection with the services \\nagreement between ENA and ECT Canada.  For book and tax purposes, the trade \\nis recorded on the risk books of the Enron affilate ultimately booking the \\ntrade but the transaction is actually documented in the name of the Enron \\naffiliate having the Master Agreement with the counterpary.  The Enron \\naffiliate having the Master Agreement with the counterparty then transacts \\nwith Risk Management & Trading Corp. (through a bulk swap arrangement).  The \\ncredit risk remains with Risk Management & Trading Corp. (through an internal \\nback to back transaction with the \\\"booking\\\" Enron affiliate)  for which the \\n\\\"booking\\\" Enron affiliate will presumably pay a fee pursuant to the services \\nagreement.\\n\\nConsider:  ENA is negotiating an agreement with Commonwealth Bank of \\nAustralia.  Will Enron Australia require a separate master with Commonwealth \\nBank of Australia?  Or will the services agreement permit the hereinabove \\ndescribed arrangement?\\n\\n\"\n        ],\n        \"semantic_type\": \"\",\n        \"description\": \"\"\n      }\n    }\n  ]\n}"
            }
          },
          "metadata": {},
          "execution_count": 9
        }
      ]
    },
    {
      "cell_type": "code",
      "source": [
        "import pandas as pd\n",
        "\n",
        "# Count of Emails Sent by Each Sender\n",
        "sender_counts = df[\"From\"].value_counts()\n",
        "\n",
        "# Count of Emails Received by Each Recipient\n",
        "df[\"To\"] = df[\"To\"].astype(str)  # Ensure all values are strings\n",
        "all_recipients = df[\"To\"].str.split(\",\").explode()  # Split multiple recipients\n",
        "recipient_counts = all_recipients.value_counts()\n",
        "\n",
        "# Identify External Emails (Not @enron.com)\n",
        "df[\"External_Sender\"] = ~df[\"From\"].str.contains(\"@enron.com\", na=False)\n",
        "df[\"External_Recipient\"] = ~df[\"To\"].str.contains(\"@enron.com\", na=False)\n",
        "\n",
        "# Count Unique External Senders & Recipients\n",
        "unique_external_senders = df[df[\"External_Sender\"]][\"From\"].nunique()\n",
        "unique_external_recipients = df[df[\"External_Recipient\"]][\"To\"].nunique()\n",
        "\n",
        "# Display Insights\n",
        "print(f\"✅ Total Unique External Senders: {unique_external_senders}\")\n",
        "print(f\"✅ Total Unique External Recipients: {unique_external_recipients}\")\n",
        "\n",
        "# Show Top 500 Recipients\n",
        "top_500_recipients = recipient_counts.head(500)\n",
        "\n",
        "# Show Top 500 Senders\n",
        "top_500_senders = sender_counts.head(500)\n",
        "\n",
        "# Display as DataFrames\n",
        "print(\"\\n📌 **Top 10 Recipients**\")\n",
        "print(top_500_recipients.head(10))\n",
        "\n",
        "print(\"\\n📌 **Top 10 Senders**\")\n",
        "print(top_500_senders.head(10))\n",
        "\n",
        "# Save results to CSV for easy download\n",
        "top_500_recipients.to_csv(\"/content/Top_400_Recipients.csv\")\n",
        "top_500_senders.to_csv(\"/content/Top_400_Senders.csv\")\n",
        "\n",
        "print(\"\\n✅ CSV files saved: 'Top_400_Recipients.csv' and 'Top_400_Senders.csv'\")\n"
      ],
      "metadata": {
        "colab": {
          "base_uri": "https://localhost:8080/",
          "height": 0
        },
        "id": "uPLA3pyKb8O1",
        "outputId": "5f6587c9-2ec6-4038-eca1-530659fd3bf0"
      },
      "execution_count": 10,
      "outputs": [
        {
          "output_type": "stream",
          "name": "stdout",
          "text": [
            "✅ Total Unique External Senders: 799\n",
            "✅ Total Unique External Recipients: 684\n",
            "\n",
            "📌 **Top 10 Recipients**\n",
            "To\n",
            "sara.shackleton@enron.com         2584\n",
            " sara.shackleton@enron.com         717\n",
            " mary.cook@enron.com               354\n",
            " tana.jones@enron.com              337\n",
            " \\n\\tsara.shackleton@enron.com     293\n",
            " brent.hendry@enron.com            279\n",
            "mark.taylor@enron.com              259\n",
            "susan.bailey@enron.com             255\n",
            " mark.taylor@enron.com             228\n",
            " susan.bailey@enron.com            223\n",
            "Name: count, dtype: int64\n",
            "\n",
            "📌 **Top 10 Senders**\n",
            "From\n",
            "sara.shackleton@enron.com        4312\n",
            "cooper.richey@enron.com           350\n",
            "exchangeinfo@nymex.com            285\n",
            "enron.announcements@enron.com     216\n",
            "cheryl.nelson@enron.com           213\n",
            "carol.clair@enron.com             212\n",
            "sheila.glover@enron.com           193\n",
            "mary.cook@enron.com               167\n",
            "tana.jones@enron.com              118\n",
            "stephanie.panus@enron.com          99\n",
            "Name: count, dtype: int64\n",
            "\n",
            "✅ CSV files saved: 'Top_400_Recipients.csv' and 'Top_400_Senders.csv'\n"
          ]
        }
      ]
    },
    {
      "cell_type": "code",
      "source": [
        "# Find the most common email subjects (Top 20)\n",
        "subject_counts = df[\"Subject\"].value_counts().head(20)\n",
        "\n",
        "print(\"\\n📌 **Most Common Email Subjects:**\")\n",
        "print(subject_counts)\n"
      ],
      "metadata": {
        "colab": {
          "base_uri": "https://localhost:8080/",
          "height": 0
        },
        "id": "HtmrihuLdKTO",
        "outputId": "f15d1226-7d60-4489-f527-95997289b356"
      },
      "execution_count": 11,
      "outputs": [
        {
          "output_type": "stream",
          "name": "stdout",
          "text": [
            "\n",
            "📌 **Most Common Email Subjects:**\n",
            "Subject\n",
            "                                                                                                                                                     170\n",
            "RE:                                                                                                                                                  106\n",
            "Re:                                                                                                                                                   44\n",
            "Re: BEAR Guarantee letter                                                                                                                             21\n",
            "FW:                                                                                                                                                   21\n",
            "Re: Financial Trading in Brazil                                                                                                                       21\n",
            "SITA                                                                                                                                                  20\n",
            "RE: ISDA Schedule/Paragraph 13                                                                                                                        19\n",
            "ISDA Master Agreement                                                                                                                                 18\n",
            "Cheryl Nelson                                                                                                                                         17\n",
            "Re: SITA                                                                                                                                              16\n",
            "EnTouch Newsletter                                                                                                                                    15\n",
            "Re: Enron Corp./Enron Credit Inc. (\"ECI\") guaranty amendment\\n (increase from USD25 Million to USD100 Million) in favor of Bear, Stearns,\\n et al     15\n",
            "Re: Enron Credit Inc. (\"ECI\")                                                                                                                         14\n",
            "Re: U.K. arranger for ENA and ECT Investments, Inc.                                                                                                   13\n",
            "EWEB                                                                                                                                                  13\n",
            "Re: R.V.I. Guaranty Co., Ltd., a Bermuda reinsurance company and\\n Continental Insurance Company                                                      13\n",
            "Enron Credit Inc.                                                                                                                                     12\n",
            "Southern Cone Financial Master Agreements Schedule                                                                                                    11\n",
            "Re: Valentis and CD Holdings                                                                                                                          11\n",
            "Name: count, dtype: int64\n"
          ]
        }
      ]
    },
    {
      "cell_type": "code",
      "source": [
        "from sklearn.ensemble import IsolationForest\n",
        "\n",
        "# Feature Engineering: Extract email lengths and hour of sending\n",
        "df[\"Body_Length\"] = df[\"Body\"].str.len()\n",
        "df[\"Hour\"] = df[\"Date\"].dt.hour\n",
        "\n",
        "# Train Isolation Forest Model for Anomaly Detection\n",
        "iso_forest = IsolationForest(n_estimators=100, contamination=0.01, random_state=42)\n",
        "df[\"Anomaly_Score\"] = iso_forest.fit_predict(df[[\"Body_Length\", \"Hour\"]])\n",
        "\n",
        "# Show the number of detected anomalies\n",
        "anomalies_count = (df[\"Anomaly_Score\"] == -1).sum()\n",
        "print(f\"🚨 Detected {anomalies_count} potential anomalies.\")\n"
      ],
      "metadata": {
        "colab": {
          "base_uri": "https://localhost:8080/",
          "height": 0
        },
        "id": "Z0kh76p7ecYo",
        "outputId": "5f71c6e8-881e-4903-b289-c1d96f2eeea3"
      },
      "execution_count": 12,
      "outputs": [
        {
          "output_type": "stream",
          "name": "stdout",
          "text": [
            "🚨 Detected 128 potential anomalies.\n"
          ]
        }
      ]
    },
    {
      "cell_type": "code",
      "source": [
        "import numpy as np\n",
        "from sklearn.preprocessing import LabelEncoder\n",
        "\n",
        "# Enhanced spam keywords list (including phishing-related words)\n",
        "spam_keywords = [\n",
        "    \"free\", \"win\", \"offer\", \"money\", \"cash\", \"lottery\", \"prize\", \"discount\",\n",
        "    \"urgent\", \"click\", \"claim\", \"reward\", \"bank\", \"account\", \"secure\", \"verify\",\n",
        "    \"transfer\", \"password\", \"credit card\", \"limited\", \"hurry\", \"exclusive\", \"access\",\n",
        "    \"selected\", \"unsubscribe\", \"guaranteed\", \"hot deal\", \"investment\", \"refund\",\n",
        "    \"dear customer\", \"winner\", \"billionaire\", \"wire transfer\", \"bitcoin\", \"100% free\",\n",
        "    \"act now\", \"important notice\", \"click here\", \"confirm your details\", \"congratulations\"\n",
        "]\n",
        "\n",
        "# Function to label spam emails based on expanded keyword detection\n",
        "def classify_spam(subject, body):\n",
        "    subject_lower = str(subject).lower() if subject else \"\"\n",
        "    body_lower = str(body).lower() if body else \"\"\n",
        "\n",
        "    # Check for spam keywords in subject\n",
        "    if any(word in subject_lower for word in spam_keywords):\n",
        "        return \"Spam\"\n",
        "    # Check for spam keywords in body\n",
        "    if any(word in body_lower for word in spam_keywords):\n",
        "        return \"Spam\"\n",
        "    return \"Ham\"\n",
        "\n",
        "# Apply classification\n",
        "df[\"Label\"] = df.apply(lambda x: classify_spam(x[\"Subject\"], x[\"Body\"]), axis=1)\n",
        "\n",
        "# Encode labels (Spam = 1, Ham = 0)\n",
        "label_encoder = LabelEncoder()\n",
        "y = label_encoder.fit_transform(df[\"Label\"])\n"
      ],
      "metadata": {
        "id": "BmRjEcTzfsAB"
      },
      "execution_count": 13,
      "outputs": []
    },
    {
      "cell_type": "code",
      "source": [
        "from sklearn.feature_extraction.text import TfidfVectorizer\n",
        "\n",
        "# Optimized TF-IDF Vectorizer\n",
        "vectorizer = TfidfVectorizer(\n",
        "    max_features=7000,   # Increased feature limit for better classification\n",
        "    stop_words=\"english\",  # Use default English stop words (better generalization)\n",
        "    ngram_range=(1, 3),  # Include uni-grams, bi-grams, and tri-grams for context\n",
        "    sublinear_tf=True,   # Sublinear scaling for term frequency\n",
        "    norm='l2',           # Normalize vectors for better classification\n",
        "    use_idf=True,        # Use Inverse Document Frequency (IDF) weighting\n",
        "    smooth_idf=True      # Smoothes the IDF weights to avoid zero division\n",
        ")\n",
        "\n",
        "# Convert email bodies to numerical features using the updated TF-IDF Vectorizer\n",
        "X = vectorizer.fit_transform(df[\"Body\"].astype(str))\n"
      ],
      "metadata": {
        "id": "e5uhWvxNfuNB"
      },
      "execution_count": 14,
      "outputs": []
    },
    {
      "cell_type": "code",
      "source": [
        "from sklearn.model_selection import train_test_split\n",
        "from sklearn.ensemble import RandomForestClassifier, GradientBoostingClassifier, StackingClassifier\n",
        "from sklearn.naive_bayes import MultinomialNB\n",
        "from sklearn.linear_model import LogisticRegression, SGDClassifier\n",
        "from sklearn.svm import LinearSVC\n",
        "from sklearn.metrics import accuracy_score\n",
        "\n",
        "# Split data into training and testing sets\n",
        "X_train, X_test, y_train, y_test = train_test_split(X, y, test_size=0.2, random_state=42)\n",
        "\n",
        "# Define models (fast and scalable)\n",
        "models = {\n",
        "    \"NaiveBayes\": MultinomialNB(),\n",
        "    \"LogisticRegression\": LogisticRegression(max_iter=200),\n",
        "    \"SGDClassifier\": SGDClassifier(max_iter=1000, tol=1e-3),  # Fast linear classifier\n",
        "    \"RandomForest\": RandomForestClassifier(n_estimators=100, random_state=42, n_jobs=-1),\n",
        "    \"LinearSVC\": LinearSVC()\n",
        "}\n",
        "\n",
        "# Stacking Classifier (Combining all models)\n",
        "stacking_clf = StackingClassifier(\n",
        "    estimators=[(name, model) for name, model in models.items()],\n",
        "    final_estimator=LogisticRegression()\n",
        ")\n",
        "\n",
        "# Train and evaluate models\n",
        "model_scores = {}\n",
        "\n",
        "for name, model in models.items():\n",
        "    model.fit(X_train, y_train)\n",
        "    y_pred = model.predict(X_test)\n",
        "    accuracy = accuracy_score(y_test, y_pred)\n",
        "    model_scores[name] = accuracy\n",
        "    print(f\"✅ {name} Accuracy: {accuracy:.4f}\")\n",
        "\n",
        "# Train and evaluate Stacking Classifier\n",
        "stacking_clf.fit(X_train, y_train)\n",
        "y_pred_stacking = stacking_clf.predict(X_test)\n",
        "stacking_accuracy = accuracy_score(y_test, y_pred_stacking)\n",
        "model_scores[\"Stacking\"] = stacking_accuracy\n",
        "print(f\"🚀 Stacking Classifier Accuracy: {stacking_accuracy:.4f}\")\n"
      ],
      "metadata": {
        "colab": {
          "base_uri": "https://localhost:8080/",
          "height": 0
        },
        "id": "sLOqCIqRf0cQ",
        "outputId": "b42e869b-6ce7-4172-cada-245a115a3f1d"
      },
      "execution_count": 15,
      "outputs": [
        {
          "output_type": "stream",
          "name": "stdout",
          "text": [
            "✅ NaiveBayes Accuracy: 0.7534\n",
            "✅ LogisticRegression Accuracy: 0.8800\n",
            "✅ SGDClassifier Accuracy: 0.9086\n",
            "✅ RandomForest Accuracy: 0.9238\n",
            "✅ LinearSVC Accuracy: 0.9230\n",
            "🚀 Stacking Classifier Accuracy: 0.9429\n"
          ]
        }
      ]
    },
    {
      "cell_type": "code",
      "source": [
        "from sklearn.metrics import classification_report\n",
        "\n",
        "# Evaluate Naive Bayes\n",
        "y_pred_nb = models[\"NaiveBayes\"].predict(X_test)\n",
        "report_nb = classification_report(y_test, y_pred_nb, target_names=[\"Ham\", \"Spam\"])\n",
        "print(f\"📊 NaiveBayes Classification Report:\\n\", report_nb)\n"
      ],
      "metadata": {
        "colab": {
          "base_uri": "https://localhost:8080/",
          "height": 0
        },
        "id": "LhSm4Wr2hwa9",
        "outputId": "8ed6c645-d6a8-4774-9ce5-29a96b4516d1"
      },
      "execution_count": 16,
      "outputs": [
        {
          "output_type": "stream",
          "name": "stdout",
          "text": [
            "📊 NaiveBayes Classification Report:\n",
            "               precision    recall  f1-score   support\n",
            "\n",
            "         Ham       0.72      0.82      0.76      1250\n",
            "        Spam       0.80      0.69      0.74      1309\n",
            "\n",
            "    accuracy                           0.75      2559\n",
            "   macro avg       0.76      0.75      0.75      2559\n",
            "weighted avg       0.76      0.75      0.75      2559\n",
            "\n"
          ]
        }
      ]
    },
    {
      "cell_type": "code",
      "source": [
        "import matplotlib.pyplot as plt\n",
        "import seaborn as sns\n",
        "from sklearn.metrics import confusion_matrix\n",
        "\n",
        "# Generate Confusion Matrix for Naive Bayes\n",
        "cm_nb = confusion_matrix(y_test, y_pred_nb)\n",
        "\n",
        "# Plot Confusion Matrix\n",
        "plt.figure(figsize=(5, 4))\n",
        "sns.heatmap(cm_nb, annot=True, fmt='d', cmap=\"Blues\", xticklabels=[\"Ham\", \"Spam\"], yticklabels=[\"Ham\", \"Spam\"])\n",
        "plt.xlabel(\"Predicted Label\")\n",
        "plt.ylabel(\"Actual Label\")\n",
        "plt.title(\"Confusion Matrix - Naive Bayes\")\n",
        "plt.show()\n"
      ],
      "metadata": {
        "colab": {
          "base_uri": "https://localhost:8080/",
          "height": 410
        },
        "id": "ascNSjEgq0pH",
        "outputId": "f651ae1f-484b-4320-b632-4b29229ee026"
      },
      "execution_count": 17,
      "outputs": [
        {
          "output_type": "display_data",
          "data": {
            "text/plain": [
              "<Figure size 500x400 with 2 Axes>"
            ],
            "image/png": "[encoded data removed]"
          },
          "metadata": {}
        }
      ]
    },
    {
      "cell_type": "code",
      "source": [
        "# Evaluate Logistic Regression\n",
        "y_pred_lr = models[\"LogisticRegression\"].predict(X_test)\n",
        "report_lr = classification_report(y_test, y_pred_lr, target_names=[\"Ham\", \"Spam\"])\n",
        "print(f\"📊 LogisticRegression Classification Report:\\n\", report_lr)\n"
      ],
      "metadata": {
        "colab": {
          "base_uri": "https://localhost:8080/",
          "height": 0
        },
        "id": "hfD0rjJph1Mg",
        "outputId": "3c16939e-2cce-4986-cc19-d9729a8ae302"
      },
      "execution_count": 18,
      "outputs": [
        {
          "output_type": "stream",
          "name": "stdout",
          "text": [
            "📊 LogisticRegression Classification Report:\n",
            "               precision    recall  f1-score   support\n",
            "\n",
            "         Ham       0.84      0.92      0.88      1250\n",
            "        Spam       0.92      0.84      0.88      1309\n",
            "\n",
            "    accuracy                           0.88      2559\n",
            "   macro avg       0.88      0.88      0.88      2559\n",
            "weighted avg       0.88      0.88      0.88      2559\n",
            "\n"
          ]
        }
      ]
    },
    {
      "cell_type": "code",
      "source": [
        "# Generate Confusion Matrix for Logistic Regression\n",
        "cm_lr = confusion_matrix(y_test, y_pred_lr)\n",
        "\n",
        "# Plot Confusion Matrix\n",
        "plt.figure(figsize=(5, 4))\n",
        "sns.heatmap(cm_lr, annot=True, fmt='d', cmap=\"Blues\", xticklabels=[\"Ham\", \"Spam\"], yticklabels=[\"Ham\", \"Spam\"])\n",
        "plt.xlabel(\"Predicted Label\")\n",
        "plt.ylabel(\"Actual Label\")\n",
        "plt.title(\"Confusion Matrix - Logistic Regression\")\n",
        "plt.show()\n"
      ],
      "metadata": {
        "colab": {
          "base_uri": "https://localhost:8080/",
          "height": 410
        },
        "id": "RAxAMsHaqixI",
        "outputId": "9446c58c-31b9-43f3-80a1-be421502c1ed"
      },
      "execution_count": 19,
      "outputs": [
        {
          "output_type": "display_data",
          "data": {
            "text/plain": [
              "<Figure size 500x400 with 2 Axes>"
            ],
            "image/png": "[encoded data removed]"
          },
          "metadata": {}
        }
      ]
    },
    {
      "cell_type": "code",
      "source": [
        "# Evaluate SGD Classifier\n",
        "y_pred_sgd = models[\"SGDClassifier\"].predict(X_test)\n",
        "report_sgd = classification_report(y_test, y_pred_sgd, target_names=[\"Ham\", \"Spam\"])\n",
        "print(f\"📊 SGDClassifier Classification Report:\\n\", report_sgd)\n"
      ],
      "metadata": {
        "colab": {
          "base_uri": "https://localhost:8080/",
          "height": 0
        },
        "id": "H5Ytkxadh6LP",
        "outputId": "4c03282d-7e3b-437c-fddf-69fc99fbd32d"
      },
      "execution_count": 20,
      "outputs": [
        {
          "output_type": "stream",
          "name": "stdout",
          "text": [
            "📊 SGDClassifier Classification Report:\n",
            "               precision    recall  f1-score   support\n",
            "\n",
            "         Ham       0.87      0.96      0.91      1250\n",
            "        Spam       0.95      0.86      0.91      1309\n",
            "\n",
            "    accuracy                           0.91      2559\n",
            "   macro avg       0.91      0.91      0.91      2559\n",
            "weighted avg       0.91      0.91      0.91      2559\n",
            "\n"
          ]
        }
      ]
    },
    {
      "cell_type": "code",
      "source": [
        "# Generate Confusion Matrix for SGD Classifier\n",
        "cm_sgd = confusion_matrix(y_test, y_pred_sgd)\n",
        "\n",
        "# Plot Confusion Matrix\n",
        "plt.figure(figsize=(5, 4))\n",
        "sns.heatmap(cm_sgd, annot=True, fmt='d', cmap=\"Blues\", xticklabels=[\"Ham\", \"Spam\"], yticklabels=[\"Ham\", \"Spam\"])\n",
        "plt.xlabel(\"Predicted Label\")\n",
        "plt.ylabel(\"Actual Label\")\n",
        "plt.title(\"Confusion Matrix - SGD Classifier\")\n",
        "plt.show()\n"
      ],
      "metadata": {
        "colab": {
          "base_uri": "https://localhost:8080/",
          "height": 410
        },
        "id": "RMgHiugDp9H9",
        "outputId": "914b26b5-2656-4826-9afb-578f5efb2b00"
      },
      "execution_count": 21,
      "outputs": [
        {
          "output_type": "display_data",
          "data": {
            "text/plain": [
              "<Figure size 500x400 with 2 Axes>"
            ],
            "image/png": "[encoded data removed]"
          },
          "metadata": {}
        }
      ]
    },
    {
      "cell_type": "code",
      "source": [
        "# Evaluate Random Forest\n",
        "y_pred_rf = models[\"RandomForest\"].predict(X_test)\n",
        "report_rf = classification_report(y_test, y_pred_rf, target_names=[\"Ham\", \"Spam\"])\n",
        "print(f\"📊 RandomForest Classification Report:\\n\", report_rf)\n"
      ],
      "metadata": {
        "colab": {
          "base_uri": "https://localhost:8080/",
          "height": 0
        },
        "id": "W7oUhfjTh9_k",
        "outputId": "a9f4fc48-b1fd-472c-bf49-028527df8db3"
      },
      "execution_count": 22,
      "outputs": [
        {
          "output_type": "stream",
          "name": "stdout",
          "text": [
            "📊 RandomForest Classification Report:\n",
            "               precision    recall  f1-score   support\n",
            "\n",
            "         Ham       0.90      0.94      0.92      1250\n",
            "        Spam       0.94      0.91      0.92      1309\n",
            "\n",
            "    accuracy                           0.92      2559\n",
            "   macro avg       0.92      0.92      0.92      2559\n",
            "weighted avg       0.92      0.92      0.92      2559\n",
            "\n"
          ]
        }
      ]
    },
    {
      "cell_type": "code",
      "source": [
        "# Generate Confusion Matrix for Random Forest\n",
        "cm_rf = confusion_matrix(y_test, y_pred_rf)\n",
        "\n",
        "# Plot Confusion Matrix\n",
        "plt.figure(figsize=(5, 4))\n",
        "sns.heatmap(cm_rf, annot=True, fmt='d', cmap=\"Blues\", xticklabels=[\"Ham\", \"Spam\"], yticklabels=[\"Ham\", \"Spam\"])\n",
        "plt.xlabel(\"Predicted Label\")\n",
        "plt.ylabel(\"Actual Label\")\n",
        "plt.title(\"Confusion Matrix - Random Forest\")\n",
        "plt.show()\n"
      ],
      "metadata": {
        "colab": {
          "base_uri": "https://localhost:8080/",
          "height": 410
        },
        "id": "-oQvg-POpvA5",
        "outputId": "e15f379e-8e05-439d-cb4b-f96db46f1110"
      },
      "execution_count": 23,
      "outputs": [
        {
          "output_type": "display_data",
          "data": {
            "text/plain": [
              "<Figure size 500x400 with 2 Axes>"
            ],
            "image/png": "[encoded data removed]"
          },
          "metadata": {}
        }
      ]
    },
    {
      "cell_type": "code",
      "source": [
        "# Evaluate Linear SVC\n",
        "y_pred_svc = models[\"LinearSVC\"].predict(X_test)\n",
        "report_svc = classification_report(y_test, y_pred_svc, target_names=[\"Ham\", \"Spam\"])\n",
        "print(f\"📊 LinearSVC Classification Report:\\n\", report_svc)\n"
      ],
      "metadata": {
        "colab": {
          "base_uri": "https://localhost:8080/",
          "height": 0
        },
        "id": "XxIGn4IOiCsM",
        "outputId": "c320b092-27eb-4af7-a00e-e8d07049d6a8"
      },
      "execution_count": 24,
      "outputs": [
        {
          "output_type": "stream",
          "name": "stdout",
          "text": [
            "📊 LinearSVC Classification Report:\n",
            "               precision    recall  f1-score   support\n",
            "\n",
            "         Ham       0.89      0.96      0.92      1250\n",
            "        Spam       0.95      0.89      0.92      1309\n",
            "\n",
            "    accuracy                           0.92      2559\n",
            "   macro avg       0.92      0.92      0.92      2559\n",
            "weighted avg       0.93      0.92      0.92      2559\n",
            "\n"
          ]
        }
      ]
    },
    {
      "cell_type": "code",
      "source": [
        "import seaborn as sns\n",
        "from sklearn.metrics import confusion_matrix\n",
        "\n",
        "# Generate Confusion Matrix\n",
        "cm_svc = confusion_matrix(y_test, y_pred_svc)\n",
        "\n",
        "# Plot Confusion Matrix\n",
        "plt.figure(figsize=(5, 4))\n",
        "sns.heatmap(cm_svc, annot=True, fmt='d', cmap=\"Blues\", xticklabels=[\"Ham\", \"Spam\"], yticklabels=[\"Ham\", \"Spam\"])\n",
        "plt.xlabel(\"Predicted Label\")\n",
        "plt.ylabel(\"Actual Label\")\n",
        "plt.title(\"Confusion Matrix - LinearSVC\")\n",
        "plt.show()\n"
      ],
      "metadata": {
        "colab": {
          "base_uri": "https://localhost:8080/",
          "height": 410
        },
        "id": "jz7kFze1o4Lp",
        "outputId": "c468edfe-f394-4d62-e9ca-31b52bdb1d0b"
      },
      "execution_count": 25,
      "outputs": [
        {
          "output_type": "display_data",
          "data": {
            "text/plain": [
              "<Figure size 500x400 with 2 Axes>"
            ],
            "image/png": "[encoded data removed]"
          },
          "metadata": {}
        }
      ]
    },
    {
      "cell_type": "code",
      "source": [
        "# Evaluate Stacking Classifier\n",
        "y_pred_stack = stacking_clf.predict(X_test)\n",
        "report_stack = classification_report(y_test, y_pred_stack, target_names=[\"Ham\", \"Spam\"])\n",
        "print(f\"🚀 Stacking Classifier Classification Report:\\n\", report_stack)\n"
      ],
      "metadata": {
        "colab": {
          "base_uri": "https://localhost:8080/",
          "height": 0
        },
        "id": "sfmKg92hiHQS",
        "outputId": "7d7849fa-e94e-4c2e-86ad-72696d7de41e"
      },
      "execution_count": 26,
      "outputs": [
        {
          "output_type": "stream",
          "name": "stdout",
          "text": [
            "🚀 Stacking Classifier Classification Report:\n",
            "               precision    recall  f1-score   support\n",
            "\n",
            "         Ham       0.93      0.96      0.94      1250\n",
            "        Spam       0.96      0.93      0.94      1309\n",
            "\n",
            "    accuracy                           0.94      2559\n",
            "   macro avg       0.94      0.94      0.94      2559\n",
            "weighted avg       0.94      0.94      0.94      2559\n",
            "\n"
          ]
        }
      ]
    },
    {
      "cell_type": "code",
      "source": [
        "# Generate Confusion Matrix for Stacking Classifier\n",
        "cm_stack = confusion_matrix(y_test, y_pred_stack)\n",
        "\n",
        "# Plot Confusion Matrix\n",
        "plt.figure(figsize=(5, 4))\n",
        "sns.heatmap(cm_stack, annot=True, fmt='d', cmap=\"Blues\", xticklabels=[\"Ham\", \"Spam\"], yticklabels=[\"Ham\", \"Spam\"])\n",
        "plt.xlabel(\"Predicted Label\")\n",
        "plt.ylabel(\"Actual Label\")\n",
        "plt.title(\"Confusion Matrix - Stacking Classifier\")\n",
        "plt.show()\n"
      ],
      "metadata": {
        "colab": {
          "base_uri": "https://localhost:8080/",
          "height": 410
        },
        "id": "auI3U10ipMGv",
        "outputId": "653b0343-6ddd-4d0e-d671-62c30755502b"
      },
      "execution_count": 27,
      "outputs": [
        {
          "output_type": "display_data",
          "data": {
            "text/plain": [
              "<Figure size 500x400 with 2 Axes>"
            ],
            "image/png": "[encoded data removed]"
          },
          "metadata": {}
        }
      ]
    },
    {
      "cell_type": "code",
      "source": [
        "import matplotlib.pyplot as plt\n",
        "\n",
        "# Plot model comparison\n",
        "plt.figure(figsize=(10,5))\n",
        "bars = plt.bar(model_scores.keys(), model_scores.values(), color=[\"blue\", \"green\", \"red\", \"orange\", \"purple\", \"cyan\"])\n",
        "\n",
        "# Add accuracy score labels on top of bars\n",
        "for bar in bars:\n",
        "    yval = bar.get_height()\n",
        "    plt.text(bar.get_x() + bar.get_width()/2, yval, f\"{yval:.4f}\", ha='center', va='bottom', fontsize=12, fontweight='bold')\n",
        "\n",
        "# Customize plot\n",
        "plt.title(\"Model Accuracy Comparison (Spam vs Ham)\", fontsize=14, fontweight='bold')\n",
        "plt.ylabel(\"Accuracy\", fontsize=12)\n",
        "plt.xlabel(\"Model\", fontsize=12)\n",
        "plt.ylim(0, 1)\n",
        "plt.grid(axis='y', linestyle='--', alpha=0.7)\n",
        "\n",
        "# Show plot\n",
        "plt.show()\n"
      ],
      "metadata": {
        "colab": {
          "base_uri": "https://localhost:8080/",
          "height": 492
        },
        "id": "HQ9mSfPTf8Iq",
        "outputId": "c2ca7a4c-3cd2-4386-f4d5-da8b10f664d6"
      },
      "execution_count": 28,
      "outputs": [
        {
          "output_type": "display_data",
          "data": {
            "text/plain": [
              "<Figure size 1000x500 with 1 Axes>"
            ],
            "image/png": "[encoded data removed]"
          },
          "metadata": {}
        }
      ]
    },
    {
      "cell_type": "code",
      "source": [
        "# Function to classify a custom email and check if it's from Enron\n",
        "def classify_custom_email(email_text, sender_email):\n",
        "    # Convert input text into numerical features using the same TF-IDF vectorizer\n",
        "    email_features = vectorizer.transform([email_text])\n",
        "\n",
        "    # Predict the label (Spam or Ham)\n",
        "    predicted_label = label_encoder.inverse_transform(stacking_clf.predict(email_features))[0]\n",
        "\n",
        "    # Check if sender is from Enron\n",
        "    enron_status = \"✅ Email is from an Enron employee.\" if sender_email.endswith(\"@enron.com\") \\\n",
        "                   else \"⚠️ ALERT: This email is NOT from an Enron employee.\"\n",
        "\n",
        "    # Display result\n",
        "    print(\"\\n📩 **Custom Email Classification**\")\n",
        "    print(f\"🔹 **Sender:** {sender_email}\")\n",
        "    print(f\"🔹 **Input Text:** {email_text[:500]}...\")  # Show first 500 characters\n",
        "    print(f\"🔹 **Predicted Label:** {predicted_label}\")\n",
        "    print(f\"🔹 {enron_status}\")\n",
        "\n",
        "# New Sample emails for testing with diverse content\n",
        "sample_emails = [\n",
        "    {\n",
        "        \"sender\": \"alice.smith@enron.com\",\n",
        "        \"text\": \"Reminder: The quarterly business strategy meeting is scheduled for Monday at 2 PM. Please review the agenda before attending.\"\n",
        "    },\n",
        "    {\n",
        "        \"sender\": \"support@fastcashdeals.com\",\n",
        "        \"text\": \"Get a $1000 credit instantly! No credit check required. Apply now before this offer expires! Click here for details.\"\n",
        "    },\n",
        "    {\n",
        "        \"sender\": \"hr@enron.com\",\n",
        "        \"text\": \"Please complete your annual employee benefits enrollment by Friday. Contact HR for assistance if you have any questions.\"\n",
        "    },\n",
        "    {\n",
        "        \"sender\": \"alerts@banksecure.com\",\n",
        "        \"text\": \"Security Alert: We noticed an unusual login attempt on your account. Click the link below to verify your details immediately to avoid account suspension.\"\n",
        "    },\n",
        "    {\n",
        "        \"sender\": \"jack.brown@enron.com\",\n",
        "        \"text\": \"Hey everyone, just a quick reminder that our department is hosting a lunch and learn event tomorrow at noon. See you all there!\"\n",
        "    },\n",
        "    {\n",
        "        \"sender\": \"investment@profitnow.com\",\n",
        "        \"text\": \"Exclusive investment opportunity! Get 200% returns on your money within 30 days. Join now and start earning big!\"\n",
        "    },\n",
        "    {\n",
        "        \"sender\": \"laura.wilson@enron.com\",\n",
        "        \"text\": \"Hey team, I need the latest project updates before our client presentation next week. Please send me your reports by Thursday.\"\n",
        "    },\n",
        "    {\n",
        "        \"sender\": \"promo@holidaydeals.com\",\n",
        "        \"text\": \"Limited-time holiday sale! Get up to 70% off on all travel bookings. Hurry, offer ends soon! Book your dream vacation now.\"\n",
        "    },\n",
        "    {\n",
        "        \"sender\": \"security@paypal.com\",\n",
        "        \"text\": \"Urgent: We have detected suspicious activity on your PayPal account. To keep your account safe, click the link below and update your credentials now.\"\n",
        "    },\n",
        "    {\n",
        "        \"sender\": \"john.miller@enron.com\",\n",
        "        \"text\": \"Can someone help me with the financial report for Q3? I need to finalize the numbers before the end of the week.\"\n",
        "    }\n",
        "]\n",
        "\n",
        "# Test classification on sample emails\n",
        "for email in sample_emails:\n",
        "    classify_custom_email(email[\"text\"], email[\"sender\"])\n",
        "    print(\"\\n\" + \"=\"*60 + \"\\n\")  # Separator for readability\n"
      ],
      "metadata": {
        "colab": {
          "base_uri": "https://localhost:8080/",
          "height": 0
        },
        "id": "XY9O7m-1lFp_",
        "outputId": "07e4c35e-9c3d-4ff0-8ef4-9dd513f15e7b"
      },
      "execution_count": 32,
      "outputs": [
        {
          "output_type": "stream",
          "name": "stdout",
          "text": [
            "\n",
            "📩 **Custom Email Classification**\n",
            "🔹 **Sender:** alice.smith@enron.com\n",
            "🔹 **Input Text:** Reminder: The quarterly business strategy meeting is scheduled for Monday at 2 PM. Please review the agenda before attending....\n",
            "🔹 **Predicted Label:** Ham\n",
            "🔹 ✅ Email is from an Enron employee.\n",
            "\n",
            "============================================================\n",
            "\n",
            "\n",
            "📩 **Custom Email Classification**\n",
            "🔹 **Sender:** support@fastcashdeals.com\n",
            "🔹 **Input Text:** Get a $1000 credit instantly! No credit check required. Apply now before this offer expires! Click here for details....\n",
            "🔹 **Predicted Label:** Spam\n",
            "🔹 ⚠️ ALERT: This email is NOT from an Enron employee.\n",
            "\n",
            "============================================================\n",
            "\n",
            "\n",
            "📩 **Custom Email Classification**\n",
            "🔹 **Sender:** hr@enron.com\n",
            "🔹 **Input Text:** Please complete your annual employee benefits enrollment by Friday. Contact HR for assistance if you have any questions....\n",
            "🔹 **Predicted Label:** Ham\n",
            "🔹 ✅ Email is from an Enron employee.\n",
            "\n",
            "============================================================\n",
            "\n",
            "\n",
            "📩 **Custom Email Classification**\n",
            "🔹 **Sender:** alerts@banksecure.com\n",
            "🔹 **Input Text:** Security Alert: We noticed an unusual login attempt on your account. Click the link below to verify your details immediately to avoid account suspension....\n",
            "🔹 **Predicted Label:** Spam\n",
            "🔹 ⚠️ ALERT: This email is NOT from an Enron employee.\n",
            "\n",
            "============================================================\n",
            "\n",
            "\n",
            "📩 **Custom Email Classification**\n",
            "🔹 **Sender:** jack.brown@enron.com\n",
            "🔹 **Input Text:** Hey everyone, just a quick reminder that our department is hosting a lunch and learn event tomorrow at noon. See you all there!...\n",
            "🔹 **Predicted Label:** Ham\n",
            "🔹 ✅ Email is from an Enron employee.\n",
            "\n",
            "============================================================\n",
            "\n",
            "\n",
            "📩 **Custom Email Classification**\n",
            "🔹 **Sender:** investment@profitnow.com\n",
            "🔹 **Input Text:** Exclusive investment opportunity! Get 200% returns on your money within 30 days. Join now and start earning big!...\n",
            "🔹 **Predicted Label:** Spam\n",
            "🔹 ⚠️ ALERT: This email is NOT from an Enron employee.\n",
            "\n",
            "============================================================\n",
            "\n",
            "\n",
            "📩 **Custom Email Classification**\n",
            "🔹 **Sender:** laura.wilson@enron.com\n",
            "🔹 **Input Text:** Hey team, I need the latest project updates before our client presentation next week. Please send me your reports by Thursday....\n",
            "🔹 **Predicted Label:** Ham\n",
            "🔹 ✅ Email is from an Enron employee.\n",
            "\n",
            "============================================================\n",
            "\n",
            "\n",
            "📩 **Custom Email Classification**\n",
            "🔹 **Sender:** promo@holidaydeals.com\n",
            "🔹 **Input Text:** Limited-time holiday sale! Get up to 70% off on all travel bookings. Hurry, offer ends soon! Book your dream vacation now....\n",
            "🔹 **Predicted Label:** Spam\n",
            "🔹 ⚠️ ALERT: This email is NOT from an Enron employee.\n",
            "\n",
            "============================================================\n",
            "\n",
            "\n",
            "📩 **Custom Email Classification**\n",
            "🔹 **Sender:** security@paypal.com\n",
            "🔹 **Input Text:** Urgent: We have detected suspicious activity on your PayPal account. To keep your account safe, click the link below and update your credentials now....\n",
            "🔹 **Predicted Label:** Spam\n",
            "🔹 ⚠️ ALERT: This email is NOT from an Enron employee.\n",
            "\n",
            "============================================================\n",
            "\n",
            "\n",
            "📩 **Custom Email Classification**\n",
            "🔹 **Sender:** john.miller@enron.com\n",
            "🔹 **Input Text:** Can someone help me with the financial report for Q3? I need to finalize the numbers before the end of the week....\n",
            "🔹 **Predicted Label:** Ham\n",
            "🔹 ✅ Email is from an Enron employee.\n",
            "\n",
            "============================================================\n",
            "\n"
          ]
        }
      ]
    },
    {
      "cell_type": "code",
      "source": [
        "import joblib\n",
        "import os\n",
        "\n",
        "# Define the directory to save models\n",
        "save_dir = \"saved_models\"\n",
        "os.makedirs(save_dir, exist_ok=True)\n",
        "\n",
        "# Save the trained TF-IDF Vectorizer\n",
        "vectorizer_path = os.path.join(save_dir, \"tfidf_vectorizer.pkl\")\n",
        "joblib.dump(vectorizer, vectorizer_path)\n",
        "\n",
        "# Save the trained Stacking Classifier model\n",
        "model_path = os.path.join(save_dir, \"stacking_classifier.pkl\")\n",
        "joblib.dump(stacking_clf, model_path)\n",
        "\n",
        "# Save the Label Encoder\n",
        "label_encoder_path = os.path.join(save_dir, \"label_encoder.pkl\")\n",
        "joblib.dump(label_encoder, label_encoder_path)\n",
        "\n",
        "# Save the dataset with predictions\n",
        "dataset_path = os.path.join(save_dir, \"classified_emails.csv\")\n",
        "df.to_csv(dataset_path, index=False)\n",
        "\n",
        "# Confirm saved files\n",
        "print(\"Saved Files for Website Integration:\")\n",
        "print(f\" TF-IDF Vectorizer: {vectorizer_path}\")\n",
        "print(f\" Stacking Classifier Model: {model_path}\")\n",
        "print(f\" Label Encoder: {label_encoder_path}\")\n",
        "print(f\" Classified Dataset: {dataset_path}\")\n"
      ],
      "metadata": {
        "colab": {
          "base_uri": "https://localhost:8080/",
          "height": 0
        },
        "id": "yjbrBWnCn2rj",
        "outputId": "31176a85-16b6-4d30-e43c-b261c6c860dc"
      },
      "execution_count": 31,
      "outputs": [
        {
          "output_type": "stream",
          "name": "stdout",
          "text": [
            "Saved Files for Website Integration:\n",
            " TF-IDF Vectorizer: saved_models/tfidf_vectorizer.pkl\n",
            " Stacking Classifier Model: saved_models/stacking_classifier.pkl\n",
            " Label Encoder: saved_models/label_encoder.pkl\n",
            " Classified Dataset: saved_models/classified_emails.csv\n"
          ]
        }
      ]
    }
  ]
}